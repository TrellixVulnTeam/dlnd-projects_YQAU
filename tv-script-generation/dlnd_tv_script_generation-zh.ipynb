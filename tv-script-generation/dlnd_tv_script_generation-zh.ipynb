{
 "cells": [
  {
   "cell_type": "markdown",
   "metadata": {},
   "source": [
    "# 生成电视剧剧本\n",
    "\n",
    "在这个项目中，你将使用 RNN 创作你自己的[《辛普森一家》](https://zh.wikipedia.org/wiki/%E8%BE%9B%E6%99%AE%E6%A3%AE%E4%B8%80%E5%AE%B6)电视剧剧本。你将会用到《辛普森一家》第 27 季中部分剧本的[数据集](https://www.kaggle.com/wcukierski/the-simpsons-by-the-data)。你创建的神经网络将为一个在 [Moe 酒馆](https://simpsonswiki.com/wiki/Moe's_Tavern)中的场景生成一集新的剧本。\n",
    "## 获取数据\n",
    "我们早已为你提供了数据。你将使用原始数据集的子集，它只包括 Moe 酒馆中的场景。数据中并不包括酒馆的其他版本，比如 “Moe 的山洞”、“燃烧的 Moe 酒馆”、“Moe 叔叔的家庭大餐”等等。"
   ]
  },
  {
   "cell_type": "code",
   "execution_count": 1,
   "metadata": {},
   "outputs": [
    {
     "data": {
      "text/plain": [
       "305189"
      ]
     },
     "execution_count": 1,
     "metadata": {},
     "output_type": "execute_result"
    }
   ],
   "source": [
    "\"\"\"\n",
    "DON'T MODIFY ANYTHING IN THIS CELL\n",
    "\"\"\"\n",
    "import helper\n",
    "\n",
    "data_dir = './data/simpsons/moes_tavern_lines.txt'\n",
    "text = helper.load_data(data_dir)\n",
    "# Ignore notice, since we don't use it for analysing the data\n",
    "text = text[81:]\n",
    "text[:800]\n",
    "len(text)"
   ]
  },
  {
   "cell_type": "markdown",
   "metadata": {},
   "source": [
    "## 探索数据\n",
    "使用 `view_sentence_range` 来查看数据的不同部分。"
   ]
  },
  {
   "cell_type": "code",
   "execution_count": 2,
   "metadata": {
    "scrolled": false
   },
   "outputs": [
    {
     "name": "stdout",
     "output_type": "stream",
     "text": [
      "Dataset Stats\n",
      "Roughly the number of unique words: 11492\n",
      "Number of scenes: 262\n",
      "Average number of sentences in each scene: 15.248091603053435\n",
      "Number of lines: 4257\n",
      "Average number of words in each line: 11.50434578341555\n",
      "\n",
      "The sentences 0 to 10:\n",
      "Moe_Szyslak: (INTO PHONE) Moe's Tavern. Where the elite meet to drink.\n",
      "Bart_Simpson: Eh, yeah, hello, is Mike there? Last name, Rotch.\n",
      "Moe_Szyslak: (INTO PHONE) Hold on, I'll check. (TO BARFLIES) Mike Rotch. Mike Rotch. Hey, has anybody seen Mike Rotch, lately?\n",
      "Moe_Szyslak: (INTO PHONE) Listen you little puke. One of these days I'm gonna catch you, and I'm gonna carve my name on your back with an ice pick.\n",
      "Moe_Szyslak: What's the matter Homer? You're not your normal effervescent self.\n",
      "Homer_Simpson: I got my problems, Moe. Give me another one.\n",
      "Moe_Szyslak: Homer, hey, you should not drink to forget your problems.\n",
      "Barney_Gumble: Yeah, you should only drink to enhance your social skills.\n",
      "\n",
      "\n"
     ]
    }
   ],
   "source": [
    "view_sentence_range = (0, 10)\n",
    "\n",
    "\"\"\"\n",
    "DON'T MODIFY ANYTHING IN THIS CELL\n",
    "\"\"\"\n",
    "import numpy as np\n",
    "\n",
    "print('Dataset Stats')\n",
    "print('Roughly the number of unique words: {}'.format(len({word: None for word in text.split()})))\n",
    "scenes = text.split('\\n\\n')\n",
    "print('Number of scenes: {}'.format(len(scenes)))\n",
    "sentence_count_scene = [scene.count('\\n') for scene in scenes]\n",
    "print('Average number of sentences in each scene: {}'.format(np.average(sentence_count_scene)))\n",
    "\n",
    "sentences = [sentence for scene in scenes for sentence in scene.split('\\n')]\n",
    "print('Number of lines: {}'.format(len(sentences)))\n",
    "word_count_sentence = [len(sentence.split()) for sentence in sentences]\n",
    "print('Average number of words in each line: {}'.format(np.average(word_count_sentence)))\n",
    "\n",
    "print()\n",
    "print('The sentences {} to {}:'.format(*view_sentence_range))\n",
    "print('\\n'.join(text.split('\\n')[view_sentence_range[0]:view_sentence_range[1]]))"
   ]
  },
  {
   "cell_type": "code",
   "execution_count": 3,
   "metadata": {},
   "outputs": [
    {
     "data": {
      "text/plain": [
       "''"
      ]
     },
     "execution_count": 3,
     "metadata": {},
     "output_type": "execute_result"
    }
   ],
   "source": [
    "text.split('\\n')[9]"
   ]
  },
  {
   "cell_type": "markdown",
   "metadata": {},
   "source": [
    "## 实现预处理函数\n",
    "对数据集进行的第一个操作是预处理。请实现下面两个预处理函数：\n",
    "\n",
    "- 查询表\n",
    "- 标记符号的字符串\n",
    "\n",
    "### 查询表\n",
    "要创建词嵌入，你首先要将词语转换为 id。请在这个函数中创建两个字典：\n",
    "\n",
    "- 将词语转换为 id 的字典，我们称它为 `vocab_to_int`\n",
    "- 将 id 转换为词语的字典，我们称它为 `int_to_vocab`\n",
    "\n",
    "请在下面的元组中返回这些字典\n",
    " `(vocab_to_int, int_to_vocab)`"
   ]
  },
  {
   "cell_type": "code",
   "execution_count": 4,
   "metadata": {
    "scrolled": true
   },
   "outputs": [
    {
     "name": "stdout",
     "output_type": "stream",
     "text": [
      "Tests Passed\n"
     ]
    }
   ],
   "source": [
    "import numpy as np\n",
    "import problem_unittests as tests\n",
    "from collections import Counter\n",
    "\n",
    "def create_lookup_tables(text):\n",
    "    \"\"\"\n",
    "    Create lookup tables for vocabulary\n",
    "    :param text: The text of tv scripts split into words\n",
    "    :return: A tuple of dicts (vocab_to_int, int_to_vocab)\n",
    "    \"\"\"\n",
    "#     TODO: Implement Function\n",
    "    counts = Counter(text)\n",
    "    vocab = sorted(counts, key=counts.get, reverse=True)\n",
    "    vocab_to_int = {word: i for i, word in enumerate(vocab)}\n",
    "    int_to_vocab = {i: word for word, i in vocab_to_int.items()}\n",
    "    \n",
    "    # uncorrect code \n",
    "#     vocab_to_int = {word: i for i, word in enumerate(text)}\n",
    "#     int_to_vocab = {i: word for word, i in vocab_to_int.items()}\n",
    "    return vocab_to_int, int_to_vocab\n",
    "\n",
    "\n",
    "\"\"\"\n",
    "DON'T MODIFY ANYTHING IN THIS CELL THAT IS BELOW THIS LINE\n",
    "\"\"\"\n",
    "tests.test_create_lookup_tables(create_lookup_tables)"
   ]
  },
  {
   "cell_type": "markdown",
   "metadata": {},
   "source": [
    "### 标记符号的字符串\n",
    "我们会使用空格当作分隔符，来将剧本分割为词语数组。然而，句号和感叹号等符号使得神经网络难以分辨“再见”和“再见！”之间的区别。\n",
    "\n",
    "实现函数 `token_lookup` 来返回一个字典，这个字典用于将 “!” 等符号标记为 “||Exclamation_Mark||” 形式。为下列符号创建一个字典，其中符号为标志，值为标记。\n",
    "\n",
    "- period ( . )\n",
    "- comma ( , )\n",
    "- quotation mark ( \" )\n",
    "- semicolon ( ; )\n",
    "- exclamation mark ( ! )\n",
    "- question mark ( ? )\n",
    "- left parenthesis ( ( )\n",
    "- right parenthesis ( ) )\n",
    "- dash ( -- )\n",
    "- return ( \\n )\n",
    "\n",
    "这个字典将用于标记符号并在其周围添加分隔符（空格）。这能将符号视作单独词汇分割开来，并使神经网络更轻松地预测下一个词汇。请确保你并没有使用容易与词汇混淆的标记。与其使用 “dash” 这样的标记，试试使用“||dash||”。"
   ]
  },
  {
   "cell_type": "code",
   "execution_count": 5,
   "metadata": {},
   "outputs": [
    {
     "name": "stdout",
     "output_type": "stream",
     "text": [
      "Tests Passed\n"
     ]
    }
   ],
   "source": [
    "def token_lookup():\n",
    "    \"\"\"\n",
    "    Generate a dict to turn punctuation into a token.\n",
    "    :return: Tokenize dictionary where the key is the punctuation and the value is the token\n",
    "    \"\"\"\n",
    "    # TODO: Implement Function\n",
    "    token_dict = {'.': '||period||',\n",
    "                  ',': '||comma||',\n",
    "                  '\"': '||quotation_mark||',\n",
    "                  ';': '||semicolon||',\n",
    "                  '!': '||exclamation_mark||',\n",
    "                  '?': '||question_mark||',\n",
    "                  '(': '||left_parenthesis||',\n",
    "                  ')': '||right_parenthesis||',\n",
    "                  '--': '||dash||',\n",
    "                  '\\n': '||return||'}\n",
    "    return token_dict\n",
    "\n",
    "\"\"\"\n",
    "DON'T MODIFY ANYTHING IN THIS CELL THAT IS BELOW THIS LINE\n",
    "\"\"\"\n",
    "tests.test_tokenize(token_lookup)"
   ]
  },
  {
   "cell_type": "markdown",
   "metadata": {},
   "source": [
    "## 预处理并保存所有数据\n",
    "运行以下代码将预处理所有数据，并将它们保存至文件。"
   ]
  },
  {
   "cell_type": "code",
   "execution_count": 6,
   "metadata": {
    "collapsed": true
   },
   "outputs": [],
   "source": [
    "\"\"\"\n",
    "DON'T MODIFY ANYTHING IN THIS CELL\n",
    "\"\"\"\n",
    "# Preprocess Training, Validation, and Testing Data\n",
    "helper.preprocess_and_save_data(data_dir, token_lookup, create_lookup_tables)"
   ]
  },
  {
   "cell_type": "markdown",
   "metadata": {},
   "source": [
    "# 检查点\n",
    "这是你遇到的第一个检点。如果你想要回到这个 notebook，或需要重新打开 notebook，你都可以从这里开始。预处理的数据都已经保存完毕。"
   ]
  },
  {
   "cell_type": "code",
   "execution_count": 7,
   "metadata": {
    "collapsed": true
   },
   "outputs": [],
   "source": [
    "\"\"\"\n",
    "DON'T MODIFY ANYTHING IN THIS CELL\n",
    "\"\"\"\n",
    "import helper\n",
    "import numpy as np\n",
    "import problem_unittests as tests\n",
    "\n",
    "int_text, vocab_to_int, int_to_vocab, token_dict = helper.load_preprocess()"
   ]
  },
  {
   "cell_type": "code",
   "execution_count": 8,
   "metadata": {},
   "outputs": [
    {
     "data": {
      "text/plain": [
       "69100"
      ]
     },
     "execution_count": 8,
     "metadata": {},
     "output_type": "execute_result"
    }
   ],
   "source": [
    "len(int_text)"
   ]
  },
  {
   "cell_type": "markdown",
   "metadata": {},
   "source": [
    "## 创建神经网络\n",
    "你将通过实现下面的函数，来创造用于构建 RNN 的必要元素：\n",
    "\n",
    "- get_inputs\n",
    "- get_init\\_cell\n",
    "- get_embed\n",
    "- build_rnn\n",
    "- build_nn\n",
    "- get_batches\n",
    "\n",
    "### 检查 TensorFlow 版本并访问 GPU"
   ]
  },
  {
   "cell_type": "code",
   "execution_count": 9,
   "metadata": {},
   "outputs": [
    {
     "name": "stdout",
     "output_type": "stream",
     "text": [
      "TensorFlow Version: 1.0.1\n",
      "Default GPU Device: /gpu:0\n"
     ]
    }
   ],
   "source": [
    "\"\"\"\n",
    "DON'T MODIFY ANYTHING IN THIS CELL\n",
    "\"\"\"\n",
    "from distutils.version import LooseVersion\n",
    "import warnings\n",
    "import tensorflow as tf\n",
    "\n",
    "# Check TensorFlow Version\n",
    "assert LooseVersion(tf.__version__) >= LooseVersion('1.0'), 'Please use TensorFlow version 1.0 or newer'\n",
    "print('TensorFlow Version: {}'.format(tf.__version__))\n",
    "\n",
    "# Check for a GPU\n",
    "if not tf.test.gpu_device_name():\n",
    "    warnings.warn('No GPU found. Please use a GPU to train your neural network.')\n",
    "else:\n",
    "    print('Default GPU Device: {}'.format(tf.test.gpu_device_name()))"
   ]
  },
  {
   "cell_type": "markdown",
   "metadata": {},
   "source": [
    "### 输入\n",
    "\n",
    "实现函数 `get_inputs()` 来为神经网络创建 TF 占位符。它将创建下列占位符：\n",
    "\n",
    "- 使用 [TF 占位符](https://www.tensorflow.org/api_docs/python/tf/placeholder) `name` 参量输入 \"input\" 文本占位符。\n",
    "- Targets 占位符\n",
    "- Learning Rate 占位符\n",
    "\n",
    "返回下列元组中的占位符 `(Input, Targets, LearningRate)`"
   ]
  },
  {
   "cell_type": "code",
   "execution_count": 10,
   "metadata": {},
   "outputs": [
    {
     "name": "stdout",
     "output_type": "stream",
     "text": [
      "Tests Passed\n"
     ]
    }
   ],
   "source": [
    "def get_inputs():\n",
    "    \"\"\"\n",
    "    Create TF Placeholders for input, targets, and learning rate.\n",
    "    :return: Tuple (input, targets, learning rate)\n",
    "    \"\"\"\n",
    "    # TODO: Implement Function\n",
    "    inputs = tf.placeholder(tf.int32, [None, None], name='input')\n",
    "    targets = tf.placeholder(tf.int32, [None, None], name='targets')\n",
    "    learning_rate = tf.placeholder(tf.float32, name='learning_rate')\n",
    "    return inputs, targets, learning_rate\n",
    "\n",
    "\n",
    "\"\"\"\n",
    "DON'T MODIFY ANYTHING IN THIS CELL THAT IS BELOW THIS LINE\n",
    "\"\"\"\n",
    "tests.test_get_inputs(get_inputs)"
   ]
  },
  {
   "cell_type": "markdown",
   "metadata": {},
   "source": [
    "### 创建 RNN Cell 并初始化\n",
    "\n",
    "在 [`MultiRNNCell`](https://www.tensorflow.org/api_docs/python/tf/contrib/rnn/MultiRNNCell) 中堆叠一个或多个 [`BasicLSTMCells`](https://www.tensorflow.org/api_docs/python/tf/contrib/rnn/BasicLSTMCell)\n",
    "\n",
    "- 使用 `rnn_size` 设定 RNN 大小。\n",
    "- 使用 MultiRNNCell 的 [`zero_state()`](https://www.tensorflow.org/api_docs/python/tf/contrib/rnn/MultiRNNCell#zero_state) 函数初始化 Cell 状态\n",
    "- 使用 [`tf.identity()`](https://www.tensorflow.org/api_docs/python/tf/identity) 为初始状态应用名称 \"initial_state\"\n",
    " \n",
    "\n",
    "返回 cell 和下列元组中的初始状态 `(Cell, InitialState)`"
   ]
  },
  {
   "cell_type": "code",
   "execution_count": 11,
   "metadata": {},
   "outputs": [
    {
     "name": "stdout",
     "output_type": "stream",
     "text": [
      "Tests Passed\n"
     ]
    }
   ],
   "source": [
    "def get_init_cell(batch_size, rnn_size):\n",
    "    \"\"\"\n",
    "    Create an RNN Cell and initialize it.\n",
    "    :param batch_size: Size of batches\n",
    "    :param rnn_size: Size of RNNs\n",
    "    :return: Tuple (cell, initialize state)\n",
    "    \"\"\"\n",
    "    # TODO: Implement Function\n",
    "    lstm = tf.contrib.rnn.BasicLSTMCell(rnn_size)\n",
    "    cell = tf.contrib.rnn.MultiRNNCell([lstm] * 3)\n",
    "    initial_state = cell.zero_state(batch_size, tf.float32)\n",
    "    initial_state = tf.identity(initial_state, name='initial_state')\n",
    "    return cell, initial_state\n",
    "\n",
    "\n",
    "\"\"\"\n",
    "DON'T MODIFY ANYTHING IN THIS CELL THAT IS BELOW THIS LINE\n",
    "\"\"\"\n",
    "tests.test_get_init_cell(get_init_cell)"
   ]
  },
  {
   "cell_type": "markdown",
   "metadata": {},
   "source": [
    "### 词嵌入\n",
    "使用 TensorFlow 将嵌入运用到 `input_data` 中。\n",
    "返回嵌入序列。"
   ]
  },
  {
   "cell_type": "code",
   "execution_count": 12,
   "metadata": {},
   "outputs": [
    {
     "name": "stdout",
     "output_type": "stream",
     "text": [
      "Tests Passed\n"
     ]
    }
   ],
   "source": [
    "def get_embed(input_data, vocab_size, embed_dim):\n",
    "    \"\"\"\n",
    "    Create embedding for <input_data>.\n",
    "    :param input_data: TF placeholder for text input.\n",
    "    :param vocab_size: Number of words in vocabulary.\n",
    "    :param embed_dim: Number of embedding dimensions\n",
    "    :return: Embedded input.\n",
    "    \"\"\"\n",
    "    # TODO: Implement Function\n",
    "    embedding = tf.Variable(tf.truncated_normal([vocab_size, embed_dim], stddev=0.1))\n",
    "    embed = tf.nn.embedding_lookup(embedding, input_data)\n",
    "    return embed\n",
    "\n",
    "\n",
    "\"\"\"\n",
    "DON'T MODIFY ANYTHING IN THIS CELL THAT IS BELOW THIS LINE\n",
    "\"\"\"\n",
    "tests.test_get_embed(get_embed)"
   ]
  },
  {
   "cell_type": "markdown",
   "metadata": {},
   "source": [
    "### 创建 RNN\n",
    "你已经在 `get_init_cell()` 函数中创建了 RNN Cell。是时候使用这个 Cell 来创建 RNN了。\n",
    "\n",
    "- 使用 [`tf.nn.dynamic_rnn()`](https://www.tensorflow.org/api_docs/python/tf/nn/dynamic_rnn) 创建 RNN\n",
    "- 使用 [`tf.identity()`](https://www.tensorflow.org/api_docs/python/tf/identity) 将名称 \"final_state\" 应用到最终状态中\n",
    "\n",
    "\n",
    "返回下列元组中的输出和最终状态`(Outputs, FinalState)`"
   ]
  },
  {
   "cell_type": "code",
   "execution_count": 13,
   "metadata": {},
   "outputs": [
    {
     "name": "stdout",
     "output_type": "stream",
     "text": [
      "Tests Passed\n"
     ]
    }
   ],
   "source": [
    "def build_rnn(cell, inputs):\n",
    "    \"\"\"\n",
    "    Create a RNN using a RNN Cell\n",
    "    :param cell: RNN Cell\n",
    "    :param inputs: Input text data\n",
    "    :return: Tuple (Outputs, Final State)\n",
    "    \"\"\"\n",
    "    # TODO: Implement Function\n",
    "    outputs, final_state = tf.nn.dynamic_rnn(cell, inputs, dtype=tf.float32)\n",
    "    final_state = tf.identity(final_state, name='final_state')\n",
    "    return outputs, final_state\n",
    "\n",
    "\n",
    "\"\"\"\n",
    "DON'T MODIFY ANYTHING IN THIS CELL THAT IS BELOW THIS LINE\n",
    "\"\"\"\n",
    "tests.test_build_rnn(build_rnn)"
   ]
  },
  {
   "cell_type": "markdown",
   "metadata": {},
   "source": [
    "### 构建神经网络\n",
    "应用你在上面实现的函数，来：\n",
    "\n",
    "- 使用你的 `get_embed(input_data, vocab_size, embed_dim)` 函数将嵌入应用到 `input_data` 中\n",
    "- 使用 `cell` 和你的 `build_rnn(cell, inputs)` 函数来创建 RNN\n",
    "- 应用一个完全联通线性激活和 `vocab_size` 的分层作为输出数量。\n",
    "\n",
    "返回下列元组中的 logit 和最终状态 `Logits, FinalState`"
   ]
  },
  {
   "cell_type": "code",
   "execution_count": 14,
   "metadata": {},
   "outputs": [
    {
     "name": "stdout",
     "output_type": "stream",
     "text": [
      "Tests Passed\n"
     ]
    }
   ],
   "source": [
    "def build_nn(cell, rnn_size, input_data, vocab_size, embed_dim):\n",
    "    \"\"\"\n",
    "    Build part of the neural network\n",
    "    :param cell: RNN cell\n",
    "    :param rnn_size: Size of rnns\n",
    "    :param input_data: Input data\n",
    "    :param vocab_size: Vocabulary size\n",
    "    :param embed_dim: Number of embedding dimensions\n",
    "    :return: Tuple (Logits, FinalState)\n",
    "    \"\"\"\n",
    "    # TODO: Implement Function\n",
    "    embed = get_embed(input_data, vocab_size, embed_dim)\n",
    "    outputs, final_state = build_rnn(cell, embed)\n",
    "    logits = tf.contrib.layers.fully_connected(outputs, vocab_size, activation_fn=None)\n",
    "    return logits, final_state\n",
    "\n",
    "\n",
    "\"\"\"\n",
    "DON'T MODIFY ANYTHING IN THIS CELL THAT IS BELOW THIS LINE\n",
    "\"\"\"\n",
    "tests.test_build_nn(build_nn)"
   ]
  },
  {
   "cell_type": "markdown",
   "metadata": {},
   "source": [
    "### 批次\n",
    "\n",
    "实现 `get_batches` 来使用 `int_text` 创建输入与目标批次。这些批次应为 Numpy 数组，并具有形状    \n",
    "`(number of batches, 2, batch size, sequence length)`。每个批次包含两个元素：\n",
    "\n",
    "- 第一个元素为**输入**的单独批次，并具有形状 `[batch size, sequence length]`\n",
    "- 第二个元素为**目标**的单独批次，并具有形状 `[batch size, sequence length]`\n",
    "\n",
    "如果你无法在最后一个批次中填入足够数据，请放弃这个批次。\n",
    "\n",
    "例如 `get_batches([1, 2, 3, 4, 5, 6, 7, 8, 9, 10, 11, 12, 13, 14, 15], 2, 3)` 将返回下面这个 Numpy 数组："
   ]
  },
  {
   "cell_type": "markdown",
   "metadata": {},
   "source": [
    "[  \n",
    "   First Batch  \n",
    "  [  \n",
    "    Batch of Input\n",
    "    [[ 1  2  3], [ 7  8  9]],\n",
    "    Batch of targets\n",
    "    [[ 2  3  4], [ 8  9 10]]\n",
    "  ],\n",
    " \n",
    "  Second Batch\n",
    "  [\n",
    "    Batch of Input\n",
    "    [[ 4  5  6], [10 11 12]],\n",
    "    Batch of targets\n",
    "    [[ 5  6  7], [11 12 13]]\n",
    "  ]\n",
    "]"
   ]
  },
  {
   "cell_type": "code",
   "execution_count": 15,
   "metadata": {},
   "outputs": [
    {
     "name": "stdout",
     "output_type": "stream",
     "text": [
      "Tests Passed\n"
     ]
    }
   ],
   "source": [
    "def get_batches(int_text, batch_size, seq_length):\n",
    "    \"\"\"\n",
    "    Return batches of input and target\n",
    "    :param int_text: Text with the words replaced by their ids\n",
    "    :param batch_size: The size of batch\n",
    "    :param seq_length: The length of sequence\n",
    "    :return: Batches as a Numpy array\n",
    "    \"\"\"\n",
    "    # TODO: Implement Function\n",
    "    words_per_batch = batch_size * seq_length\n",
    "    n_batches = len(int_text) // words_per_batch\n",
    "    int_text = np.array(int_text[:n_batches * words_per_batch])\n",
    "    int_text = int_text.reshape(batch_size, -1)\n",
    "    \n",
    "    batches = []\n",
    "    for i in range(0, int_text.shape[1], seq_length):\n",
    "        x = int_text[:, i:i+seq_length]\n",
    "        y = np.zeros_like(x)\n",
    "        y[:, :-1], y[:, -1] = x[:, 1:], x[:, 0]\n",
    "        batches.append([x, y])\n",
    "        \n",
    "    return np.array(batches)\n",
    "\n",
    "\"\"\"\n",
    "DON'T MODIFY ANYTHING IN THIS CELL THAT IS BELOW THIS LINE\n",
    "\"\"\"\n",
    "tests.test_get_batches(get_batches)"
   ]
  },
  {
   "cell_type": "markdown",
   "metadata": {},
   "source": [
    "## 神经网络训练\n",
    "### 超参数\n",
    "调整下列参数:\n",
    "\n",
    "- 将 `num_epochs` 设置为训练次数。\n",
    "- 将 `batch_size` 设置为程序组大小。\n",
    "- 将 `rnn_size` 设置为 RNN 大小。\n",
    "- 将 `embed_dim` 设置为嵌入大小。\n",
    "- 将 `seq_length` 设置为序列长度。\n",
    "- 将 `learning_rate` 设置为学习率。\n",
    "- 将 `show_every_n_batches` 设置为神经网络应输出的程序组数量。"
   ]
  },
  {
   "cell_type": "code",
   "execution_count": 16,
   "metadata": {
    "collapsed": true
   },
   "outputs": [],
   "source": [
    "# Number of Epochs\n",
    "num_epochs = 200\n",
    "# Batch Size\n",
    "batch_size = 256\n",
    "# RNN Size\n",
    "rnn_size = 512\n",
    "# Embedding Dimension Size\n",
    "embed_dim = 256\n",
    "# Sequence Length\n",
    "seq_length = 12\n",
    "# Learning Rate\n",
    "learning_rate = 0.001\n",
    "# Show stats for every n number of batches\n",
    "show_every_n_batches = 11\n",
    "\n",
    "\"\"\"\n",
    "DON'T MODIFY ANYTHING IN THIS CELL THAT IS BELOW THIS LINE\n",
    "\"\"\"\n",
    "save_dir = './save'"
   ]
  },
  {
   "cell_type": "markdown",
   "metadata": {},
   "source": [
    "### 创建图表\n",
    "使用你实现的神经网络创建图表。"
   ]
  },
  {
   "cell_type": "code",
   "execution_count": 17,
   "metadata": {
    "collapsed": true
   },
   "outputs": [],
   "source": [
    "\"\"\"\n",
    "DON'T MODIFY ANYTHING IN THIS CELL\n",
    "\"\"\"\n",
    "from tensorflow.contrib import seq2seq\n",
    "\n",
    "train_graph = tf.Graph()\n",
    "with train_graph.as_default():\n",
    "    vocab_size = len(int_to_vocab)\n",
    "    input_text, targets, lr = get_inputs()\n",
    "    input_data_shape = tf.shape(input_text)\n",
    "    cell, initial_state = get_init_cell(input_data_shape[0], rnn_size)\n",
    "    logits, final_state = build_nn(cell, rnn_size, input_text, vocab_size, embed_dim)\n",
    "\n",
    "    # Probabilities for generating words\n",
    "    probs = tf.nn.softmax(logits, name='probs')\n",
    "\n",
    "    # Loss function\n",
    "    cost = seq2seq.sequence_loss(\n",
    "        logits,\n",
    "        targets,\n",
    "        tf.ones([input_data_shape[0], input_data_shape[1]]))\n",
    "\n",
    "    # Optimizer\n",
    "    optimizer = tf.train.AdamOptimizer(lr)\n",
    "\n",
    "    # Gradient Clipping\n",
    "    gradients = optimizer.compute_gradients(cost)\n",
    "    capped_gradients = [(tf.clip_by_value(grad, -1., 1.), var) for grad, var in gradients if grad is not None]\n",
    "    train_op = optimizer.apply_gradients(capped_gradients)"
   ]
  },
  {
   "cell_type": "markdown",
   "metadata": {},
   "source": [
    "## 训练\n",
    "在预处理数据中训练神经网络。如果你遇到困难，请查看这个[表格](https://discussions.udacity.com/)，看看是否有人遇到了和你一样的问题。"
   ]
  },
  {
   "cell_type": "code",
   "execution_count": 18,
   "metadata": {},
   "outputs": [
    {
     "data": {
      "text/plain": [
       "(22, 2, 256, 12)"
      ]
     },
     "execution_count": 18,
     "metadata": {},
     "output_type": "execute_result"
    }
   ],
   "source": [
    "batches = get_batches(int_text, batch_size, seq_length)\n",
    "batches.shape"
   ]
  },
  {
   "cell_type": "code",
   "execution_count": 19,
   "metadata": {
    "scrolled": true
   },
   "outputs": [
    {
     "name": "stdout",
     "output_type": "stream",
     "text": [
      "Epoch:   1/200 Iteration:    11/4400 Tran_loss: 6.563\n",
      "Epoch:   1/200 Iteration:    22/4400 Tran_loss: 6.604\n",
      "Epoch:   2/200 Iteration:    33/4400 Tran_loss: 6.051\n",
      "Epoch:   2/200 Iteration:    44/4400 Tran_loss: 6.224\n",
      "Epoch:   3/200 Iteration:    55/4400 Tran_loss: 6.021\n",
      "Epoch:   3/200 Iteration:    66/4400 Tran_loss: 6.114\n",
      "Epoch:   4/200 Iteration:    77/4400 Tran_loss: 5.987\n",
      "Epoch:   4/200 Iteration:    88/4400 Tran_loss: 6.115\n",
      "Epoch:   5/200 Iteration:    99/4400 Tran_loss: 5.971\n",
      "Epoch:   5/200 Iteration:   110/4400 Tran_loss: 6.093\n",
      "Epoch:   6/200 Iteration:   121/4400 Tran_loss: 5.963\n",
      "Epoch:   6/200 Iteration:   132/4400 Tran_loss: 6.081\n",
      "Epoch:   7/200 Iteration:   143/4400 Tran_loss: 5.956\n",
      "Epoch:   7/200 Iteration:   154/4400 Tran_loss: 6.072\n",
      "Epoch:   8/200 Iteration:   165/4400 Tran_loss: 5.952\n",
      "Epoch:   8/200 Iteration:   176/4400 Tran_loss: 6.063\n",
      "Epoch:   9/200 Iteration:   187/4400 Tran_loss: 5.945\n",
      "Epoch:   9/200 Iteration:   198/4400 Tran_loss: 6.049\n",
      "Epoch:  10/200 Iteration:   209/4400 Tran_loss: 5.942\n",
      "Epoch:  10/200 Iteration:   220/4400 Tran_loss: 6.041\n",
      "Epoch:  11/200 Iteration:   231/4400 Tran_loss: 5.937\n",
      "Epoch:  11/200 Iteration:   242/4400 Tran_loss: 6.035\n",
      "Epoch:  12/200 Iteration:   253/4400 Tran_loss: 5.933\n",
      "Epoch:  12/200 Iteration:   264/4400 Tran_loss: 6.031\n",
      "Epoch:  13/200 Iteration:   275/4400 Tran_loss: 5.929\n",
      "Epoch:  13/200 Iteration:   286/4400 Tran_loss: 6.027\n",
      "Epoch:  14/200 Iteration:   297/4400 Tran_loss: 5.923\n",
      "Epoch:  14/200 Iteration:   308/4400 Tran_loss: 6.023\n",
      "Epoch:  15/200 Iteration:   319/4400 Tran_loss: 5.919\n",
      "Epoch:  15/200 Iteration:   330/4400 Tran_loss: 6.017\n",
      "Epoch:  16/200 Iteration:   341/4400 Tran_loss: 5.913\n",
      "Epoch:  16/200 Iteration:   352/4400 Tran_loss: 6.012\n",
      "Epoch:  17/200 Iteration:   363/4400 Tran_loss: 5.908\n",
      "Epoch:  17/200 Iteration:   374/4400 Tran_loss: 6.004\n",
      "Epoch:  18/200 Iteration:   385/4400 Tran_loss: 5.900\n",
      "Epoch:  18/200 Iteration:   396/4400 Tran_loss: 5.996\n",
      "Epoch:  19/200 Iteration:   407/4400 Tran_loss: 5.892\n",
      "Epoch:  19/200 Iteration:   418/4400 Tran_loss: 5.986\n",
      "Epoch:  20/200 Iteration:   429/4400 Tran_loss: 5.880\n",
      "Epoch:  20/200 Iteration:   440/4400 Tran_loss: 5.972\n",
      "Epoch:  21/200 Iteration:   451/4400 Tran_loss: 5.843\n",
      "Epoch:  21/200 Iteration:   462/4400 Tran_loss: 5.867\n",
      "Epoch:  22/200 Iteration:   473/4400 Tran_loss: 5.702\n",
      "Epoch:  22/200 Iteration:   484/4400 Tran_loss: 5.724\n",
      "Epoch:  23/200 Iteration:   495/4400 Tran_loss: 5.550\n",
      "Epoch:  23/200 Iteration:   506/4400 Tran_loss: 5.563\n",
      "Epoch:  24/200 Iteration:   517/4400 Tran_loss: 5.411\n",
      "Epoch:  24/200 Iteration:   528/4400 Tran_loss: 5.443\n",
      "Epoch:  25/200 Iteration:   539/4400 Tran_loss: 5.308\n",
      "Epoch:  25/200 Iteration:   550/4400 Tran_loss: 5.349\n",
      "Epoch:  26/200 Iteration:   561/4400 Tran_loss: 5.216\n",
      "Epoch:  26/200 Iteration:   572/4400 Tran_loss: 5.252\n",
      "Epoch:  27/200 Iteration:   583/4400 Tran_loss: 5.132\n",
      "Epoch:  27/200 Iteration:   594/4400 Tran_loss: 5.169\n",
      "Epoch:  28/200 Iteration:   605/4400 Tran_loss: 5.057\n",
      "Epoch:  28/200 Iteration:   616/4400 Tran_loss: 5.106\n",
      "Epoch:  29/200 Iteration:   627/4400 Tran_loss: 5.001\n",
      "Epoch:  29/200 Iteration:   638/4400 Tran_loss: 5.023\n",
      "Epoch:  30/200 Iteration:   649/4400 Tran_loss: 4.948\n",
      "Epoch:  30/200 Iteration:   660/4400 Tran_loss: 4.964\n",
      "Epoch:  31/200 Iteration:   671/4400 Tran_loss: 4.873\n",
      "Epoch:  31/200 Iteration:   682/4400 Tran_loss: 4.896\n",
      "Epoch:  32/200 Iteration:   693/4400 Tran_loss: 4.817\n",
      "Epoch:  32/200 Iteration:   704/4400 Tran_loss: 4.854\n",
      "Epoch:  33/200 Iteration:   715/4400 Tran_loss: 4.769\n",
      "Epoch:  33/200 Iteration:   726/4400 Tran_loss: 4.797\n",
      "Epoch:  34/200 Iteration:   737/4400 Tran_loss: 4.727\n",
      "Epoch:  34/200 Iteration:   748/4400 Tran_loss: 4.776\n",
      "Epoch:  35/200 Iteration:   759/4400 Tran_loss: 4.699\n",
      "Epoch:  35/200 Iteration:   770/4400 Tran_loss: 4.709\n",
      "Epoch:  36/200 Iteration:   781/4400 Tran_loss: 4.627\n",
      "Epoch:  36/200 Iteration:   792/4400 Tran_loss: 4.658\n",
      "Epoch:  37/200 Iteration:   803/4400 Tran_loss: 4.578\n",
      "Epoch:  37/200 Iteration:   814/4400 Tran_loss: 4.585\n",
      "Epoch:  38/200 Iteration:   825/4400 Tran_loss: 4.522\n",
      "Epoch:  38/200 Iteration:   836/4400 Tran_loss: 4.568\n",
      "Epoch:  39/200 Iteration:   847/4400 Tran_loss: 4.508\n",
      "Epoch:  39/200 Iteration:   858/4400 Tran_loss: 4.506\n",
      "Epoch:  40/200 Iteration:   869/4400 Tran_loss: 4.471\n",
      "Epoch:  40/200 Iteration:   880/4400 Tran_loss: 4.469\n",
      "Epoch:  41/200 Iteration:   891/4400 Tran_loss: 4.420\n",
      "Epoch:  41/200 Iteration:   902/4400 Tran_loss: 4.454\n",
      "Epoch:  42/200 Iteration:   913/4400 Tran_loss: 4.362\n",
      "Epoch:  42/200 Iteration:   924/4400 Tran_loss: 4.404\n",
      "Epoch:  43/200 Iteration:   935/4400 Tran_loss: 4.341\n",
      "Epoch:  43/200 Iteration:   946/4400 Tran_loss: 4.326\n",
      "Epoch:  44/200 Iteration:   957/4400 Tran_loss: 4.306\n",
      "Epoch:  44/200 Iteration:   968/4400 Tran_loss: 4.281\n",
      "Epoch:  45/200 Iteration:   979/4400 Tran_loss: 4.248\n",
      "Epoch:  45/200 Iteration:   990/4400 Tran_loss: 4.277\n",
      "Epoch:  46/200 Iteration:  1001/4400 Tran_loss: 4.217\n",
      "Epoch:  46/200 Iteration:  1012/4400 Tran_loss: 4.193\n",
      "Epoch:  47/200 Iteration:  1023/4400 Tran_loss: 4.197\n",
      "Epoch:  47/200 Iteration:  1034/4400 Tran_loss: 4.175\n",
      "Epoch:  48/200 Iteration:  1045/4400 Tran_loss: 4.142\n",
      "Epoch:  48/200 Iteration:  1056/4400 Tran_loss: 4.165\n",
      "Epoch:  49/200 Iteration:  1067/4400 Tran_loss: 4.145\n",
      "Epoch:  49/200 Iteration:  1078/4400 Tran_loss: 4.095\n",
      "Epoch:  50/200 Iteration:  1089/4400 Tran_loss: 4.100\n",
      "Epoch:  50/200 Iteration:  1100/4400 Tran_loss: 4.080\n",
      "Epoch:  51/200 Iteration:  1111/4400 Tran_loss: 4.045\n",
      "Epoch:  51/200 Iteration:  1122/4400 Tran_loss: 4.023\n",
      "Epoch:  52/200 Iteration:  1133/4400 Tran_loss: 4.085\n",
      "Epoch:  52/200 Iteration:  1144/4400 Tran_loss: 4.054\n",
      "Epoch:  53/200 Iteration:  1155/4400 Tran_loss: 4.015\n",
      "Epoch:  53/200 Iteration:  1166/4400 Tran_loss: 3.978\n",
      "Epoch:  54/200 Iteration:  1177/4400 Tran_loss: 3.975\n",
      "Epoch:  54/200 Iteration:  1188/4400 Tran_loss: 3.951\n",
      "Epoch:  55/200 Iteration:  1199/4400 Tran_loss: 3.960\n",
      "Epoch:  55/200 Iteration:  1210/4400 Tran_loss: 3.892\n",
      "Epoch:  56/200 Iteration:  1221/4400 Tran_loss: 3.902\n",
      "Epoch:  56/200 Iteration:  1232/4400 Tran_loss: 3.876\n",
      "Epoch:  57/200 Iteration:  1243/4400 Tran_loss: 3.889\n",
      "Epoch:  57/200 Iteration:  1254/4400 Tran_loss: 3.856\n",
      "Epoch:  58/200 Iteration:  1265/4400 Tran_loss: 3.879\n",
      "Epoch:  58/200 Iteration:  1276/4400 Tran_loss: 3.820\n",
      "Epoch:  59/200 Iteration:  1287/4400 Tran_loss: 3.842\n",
      "Epoch:  59/200 Iteration:  1298/4400 Tran_loss: 3.776\n",
      "Epoch:  60/200 Iteration:  1309/4400 Tran_loss: 3.827\n",
      "Epoch:  60/200 Iteration:  1320/4400 Tran_loss: 3.797\n",
      "Epoch:  61/200 Iteration:  1331/4400 Tran_loss: 3.915\n",
      "Epoch:  61/200 Iteration:  1342/4400 Tran_loss: 3.884\n",
      "Epoch:  62/200 Iteration:  1353/4400 Tran_loss: 3.811\n",
      "Epoch:  62/200 Iteration:  1364/4400 Tran_loss: 3.817\n",
      "Epoch:  63/200 Iteration:  1375/4400 Tran_loss: 3.828\n",
      "Epoch:  63/200 Iteration:  1386/4400 Tran_loss: 3.692\n",
      "Epoch:  64/200 Iteration:  1397/4400 Tran_loss: 3.669\n",
      "Epoch:  64/200 Iteration:  1408/4400 Tran_loss: 3.619\n",
      "Epoch:  65/200 Iteration:  1419/4400 Tran_loss: 3.627\n",
      "Epoch:  65/200 Iteration:  1430/4400 Tran_loss: 3.567\n",
      "Epoch:  66/200 Iteration:  1441/4400 Tran_loss: 3.584\n",
      "Epoch:  66/200 Iteration:  1452/4400 Tran_loss: 3.520\n",
      "Epoch:  67/200 Iteration:  1463/4400 Tran_loss: 3.548\n",
      "Epoch:  67/200 Iteration:  1474/4400 Tran_loss: 3.501\n",
      "Epoch:  68/200 Iteration:  1485/4400 Tran_loss: 3.518\n",
      "Epoch:  68/200 Iteration:  1496/4400 Tran_loss: 3.457\n",
      "Epoch:  69/200 Iteration:  1507/4400 Tran_loss: 3.486\n",
      "Epoch:  69/200 Iteration:  1518/4400 Tran_loss: 3.445\n",
      "Epoch:  70/200 Iteration:  1529/4400 Tran_loss: 3.484\n",
      "Epoch:  70/200 Iteration:  1540/4400 Tran_loss: 3.420\n",
      "Epoch:  71/200 Iteration:  1551/4400 Tran_loss: 3.468\n",
      "Epoch:  71/200 Iteration:  1562/4400 Tran_loss: 3.431\n",
      "Epoch:  72/200 Iteration:  1573/4400 Tran_loss: 3.489\n",
      "Epoch:  72/200 Iteration:  1584/4400 Tran_loss: 3.381\n",
      "Epoch:  73/200 Iteration:  1595/4400 Tran_loss: 3.411\n",
      "Epoch:  73/200 Iteration:  1606/4400 Tran_loss: 3.363\n",
      "Epoch:  74/200 Iteration:  1617/4400 Tran_loss: 3.405\n",
      "Epoch:  74/200 Iteration:  1628/4400 Tran_loss: 3.389\n",
      "Epoch:  75/200 Iteration:  1639/4400 Tran_loss: 3.431\n",
      "Epoch:  75/200 Iteration:  1650/4400 Tran_loss: 3.310\n",
      "Epoch:  76/200 Iteration:  1661/4400 Tran_loss: 3.336\n",
      "Epoch:  76/200 Iteration:  1672/4400 Tran_loss: 3.273\n"
     ]
    },
    {
     "name": "stdout",
     "output_type": "stream",
     "text": [
      "Epoch:  77/200 Iteration:  1683/4400 Tran_loss: 3.349\n",
      "Epoch:  77/200 Iteration:  1694/4400 Tran_loss: 3.229\n",
      "Epoch:  78/200 Iteration:  1705/4400 Tran_loss: 3.271\n",
      "Epoch:  78/200 Iteration:  1716/4400 Tran_loss: 3.217\n",
      "Epoch:  79/200 Iteration:  1727/4400 Tran_loss: 3.271\n",
      "Epoch:  79/200 Iteration:  1738/4400 Tran_loss: 3.182\n",
      "Epoch:  80/200 Iteration:  1749/4400 Tran_loss: 3.221\n",
      "Epoch:  80/200 Iteration:  1760/4400 Tran_loss: 3.144\n",
      "Epoch:  81/200 Iteration:  1771/4400 Tran_loss: 3.207\n",
      "Epoch:  81/200 Iteration:  1782/4400 Tran_loss: 3.107\n",
      "Epoch:  82/200 Iteration:  1793/4400 Tran_loss: 3.165\n",
      "Epoch:  82/200 Iteration:  1804/4400 Tran_loss: 3.092\n",
      "Epoch:  83/200 Iteration:  1815/4400 Tran_loss: 3.137\n",
      "Epoch:  83/200 Iteration:  1826/4400 Tran_loss: 3.044\n",
      "Epoch:  84/200 Iteration:  1837/4400 Tran_loss: 3.097\n",
      "Epoch:  84/200 Iteration:  1848/4400 Tran_loss: 3.023\n",
      "Epoch:  85/200 Iteration:  1859/4400 Tran_loss: 3.056\n",
      "Epoch:  85/200 Iteration:  1870/4400 Tran_loss: 2.978\n",
      "Epoch:  86/200 Iteration:  1881/4400 Tran_loss: 3.053\n",
      "Epoch:  86/200 Iteration:  1892/4400 Tran_loss: 2.976\n",
      "Epoch:  87/200 Iteration:  1903/4400 Tran_loss: 3.029\n",
      "Epoch:  87/200 Iteration:  1914/4400 Tran_loss: 2.927\n",
      "Epoch:  88/200 Iteration:  1925/4400 Tran_loss: 2.984\n",
      "Epoch:  88/200 Iteration:  1936/4400 Tran_loss: 2.907\n",
      "Epoch:  89/200 Iteration:  1947/4400 Tran_loss: 2.985\n",
      "Epoch:  89/200 Iteration:  1958/4400 Tran_loss: 2.910\n",
      "Epoch:  90/200 Iteration:  1969/4400 Tran_loss: 2.950\n",
      "Epoch:  90/200 Iteration:  1980/4400 Tran_loss: 2.861\n",
      "Epoch:  91/200 Iteration:  1991/4400 Tran_loss: 2.952\n",
      "Epoch:  91/200 Iteration:  2002/4400 Tran_loss: 2.861\n",
      "Epoch:  92/200 Iteration:  2013/4400 Tran_loss: 2.957\n",
      "Epoch:  92/200 Iteration:  2024/4400 Tran_loss: 2.820\n",
      "Epoch:  93/200 Iteration:  2035/4400 Tran_loss: 2.901\n",
      "Epoch:  93/200 Iteration:  2046/4400 Tran_loss: 2.810\n",
      "Epoch:  94/200 Iteration:  2057/4400 Tran_loss: 2.879\n",
      "Epoch:  94/200 Iteration:  2068/4400 Tran_loss: 2.769\n",
      "Epoch:  95/200 Iteration:  2079/4400 Tran_loss: 2.871\n",
      "Epoch:  95/200 Iteration:  2090/4400 Tran_loss: 2.743\n",
      "Epoch:  96/200 Iteration:  2101/4400 Tran_loss: 2.829\n",
      "Epoch:  96/200 Iteration:  2112/4400 Tran_loss: 2.727\n",
      "Epoch:  97/200 Iteration:  2123/4400 Tran_loss: 2.796\n",
      "Epoch:  97/200 Iteration:  2134/4400 Tran_loss: 2.725\n",
      "Epoch:  98/200 Iteration:  2145/4400 Tran_loss: 2.802\n",
      "Epoch:  98/200 Iteration:  2156/4400 Tran_loss: 2.689\n",
      "Epoch:  99/200 Iteration:  2167/4400 Tran_loss: 2.761\n",
      "Epoch:  99/200 Iteration:  2178/4400 Tran_loss: 2.664\n",
      "Epoch: 100/200 Iteration:  2189/4400 Tran_loss: 2.773\n",
      "Epoch: 100/200 Iteration:  2200/4400 Tran_loss: 2.664\n",
      "Epoch: 101/200 Iteration:  2211/4400 Tran_loss: 2.737\n",
      "Epoch: 101/200 Iteration:  2222/4400 Tran_loss: 2.590\n",
      "Epoch: 102/200 Iteration:  2233/4400 Tran_loss: 2.727\n",
      "Epoch: 102/200 Iteration:  2244/4400 Tran_loss: 2.580\n",
      "Epoch: 103/200 Iteration:  2255/4400 Tran_loss: 2.660\n",
      "Epoch: 103/200 Iteration:  2266/4400 Tran_loss: 2.562\n",
      "Epoch: 104/200 Iteration:  2277/4400 Tran_loss: 2.627\n",
      "Epoch: 104/200 Iteration:  2288/4400 Tran_loss: 2.509\n",
      "Epoch: 105/200 Iteration:  2299/4400 Tran_loss: 2.638\n",
      "Epoch: 105/200 Iteration:  2310/4400 Tran_loss: 2.528\n",
      "Epoch: 106/200 Iteration:  2321/4400 Tran_loss: 2.633\n",
      "Epoch: 106/200 Iteration:  2332/4400 Tran_loss: 2.498\n",
      "Epoch: 107/200 Iteration:  2343/4400 Tran_loss: 2.598\n",
      "Epoch: 107/200 Iteration:  2354/4400 Tran_loss: 2.527\n",
      "Epoch: 108/200 Iteration:  2365/4400 Tran_loss: 2.612\n",
      "Epoch: 108/200 Iteration:  2376/4400 Tran_loss: 2.508\n",
      "Epoch: 109/200 Iteration:  2387/4400 Tran_loss: 2.644\n",
      "Epoch: 109/200 Iteration:  2398/4400 Tran_loss: 2.534\n",
      "Epoch: 110/200 Iteration:  2409/4400 Tran_loss: 2.604\n",
      "Epoch: 110/200 Iteration:  2420/4400 Tran_loss: 2.508\n",
      "Epoch: 111/200 Iteration:  2431/4400 Tran_loss: 2.598\n",
      "Epoch: 111/200 Iteration:  2442/4400 Tran_loss: 2.499\n",
      "Epoch: 112/200 Iteration:  2453/4400 Tran_loss: 2.594\n",
      "Epoch: 112/200 Iteration:  2464/4400 Tran_loss: 2.453\n",
      "Epoch: 113/200 Iteration:  2475/4400 Tran_loss: 2.536\n",
      "Epoch: 113/200 Iteration:  2486/4400 Tran_loss: 2.381\n",
      "Epoch: 114/200 Iteration:  2497/4400 Tran_loss: 2.485\n",
      "Epoch: 114/200 Iteration:  2508/4400 Tran_loss: 2.383\n",
      "Epoch: 115/200 Iteration:  2519/4400 Tran_loss: 2.469\n",
      "Epoch: 115/200 Iteration:  2530/4400 Tran_loss: 2.341\n",
      "Epoch: 116/200 Iteration:  2541/4400 Tran_loss: 2.388\n",
      "Epoch: 116/200 Iteration:  2552/4400 Tran_loss: 2.245\n",
      "Epoch: 117/200 Iteration:  2563/4400 Tran_loss: 2.348\n",
      "Epoch: 117/200 Iteration:  2574/4400 Tran_loss: 2.229\n",
      "Epoch: 118/200 Iteration:  2585/4400 Tran_loss: 2.320\n",
      "Epoch: 118/200 Iteration:  2596/4400 Tran_loss: 2.200\n",
      "Epoch: 119/200 Iteration:  2607/4400 Tran_loss: 2.286\n",
      "Epoch: 119/200 Iteration:  2618/4400 Tran_loss: 2.167\n",
      "Epoch: 120/200 Iteration:  2629/4400 Tran_loss: 2.248\n",
      "Epoch: 120/200 Iteration:  2640/4400 Tran_loss: 2.122\n",
      "Epoch: 121/200 Iteration:  2651/4400 Tran_loss: 2.229\n",
      "Epoch: 121/200 Iteration:  2662/4400 Tran_loss: 2.126\n",
      "Epoch: 122/200 Iteration:  2673/4400 Tran_loss: 2.204\n",
      "Epoch: 122/200 Iteration:  2684/4400 Tran_loss: 2.075\n",
      "Epoch: 123/200 Iteration:  2695/4400 Tran_loss: 2.177\n",
      "Epoch: 123/200 Iteration:  2706/4400 Tran_loss: 2.118\n",
      "Epoch: 124/200 Iteration:  2717/4400 Tran_loss: 2.160\n",
      "Epoch: 124/200 Iteration:  2728/4400 Tran_loss: 2.035\n",
      "Epoch: 125/200 Iteration:  2739/4400 Tran_loss: 2.134\n",
      "Epoch: 125/200 Iteration:  2750/4400 Tran_loss: 2.029\n",
      "Epoch: 126/200 Iteration:  2761/4400 Tran_loss: 2.105\n",
      "Epoch: 126/200 Iteration:  2772/4400 Tran_loss: 2.013\n",
      "Epoch: 127/200 Iteration:  2783/4400 Tran_loss: 2.088\n",
      "Epoch: 127/200 Iteration:  2794/4400 Tran_loss: 1.974\n",
      "Epoch: 128/200 Iteration:  2805/4400 Tran_loss: 2.077\n",
      "Epoch: 128/200 Iteration:  2816/4400 Tran_loss: 1.957\n",
      "Epoch: 129/200 Iteration:  2827/4400 Tran_loss: 2.043\n",
      "Epoch: 129/200 Iteration:  2838/4400 Tran_loss: 1.940\n",
      "Epoch: 130/200 Iteration:  2849/4400 Tran_loss: 2.025\n",
      "Epoch: 130/200 Iteration:  2860/4400 Tran_loss: 1.968\n",
      "Epoch: 131/200 Iteration:  2871/4400 Tran_loss: 2.016\n",
      "Epoch: 131/200 Iteration:  2882/4400 Tran_loss: 1.944\n",
      "Epoch: 132/200 Iteration:  2893/4400 Tran_loss: 2.014\n",
      "Epoch: 132/200 Iteration:  2904/4400 Tran_loss: 1.912\n",
      "Epoch: 133/200 Iteration:  2915/4400 Tran_loss: 2.011\n",
      "Epoch: 133/200 Iteration:  2926/4400 Tran_loss: 1.919\n",
      "Epoch: 134/200 Iteration:  2937/4400 Tran_loss: 2.026\n",
      "Epoch: 134/200 Iteration:  2948/4400 Tran_loss: 1.906\n",
      "Epoch: 135/200 Iteration:  2959/4400 Tran_loss: 1.961\n",
      "Epoch: 135/200 Iteration:  2970/4400 Tran_loss: 1.921\n",
      "Epoch: 136/200 Iteration:  2981/4400 Tran_loss: 1.986\n",
      "Epoch: 136/200 Iteration:  2992/4400 Tran_loss: 1.877\n",
      "Epoch: 137/200 Iteration:  3003/4400 Tran_loss: 1.958\n",
      "Epoch: 137/200 Iteration:  3014/4400 Tran_loss: 1.836\n",
      "Epoch: 138/200 Iteration:  3025/4400 Tran_loss: 1.943\n",
      "Epoch: 138/200 Iteration:  3036/4400 Tran_loss: 1.832\n",
      "Epoch: 139/200 Iteration:  3047/4400 Tran_loss: 1.922\n",
      "Epoch: 139/200 Iteration:  3058/4400 Tran_loss: 1.806\n",
      "Epoch: 140/200 Iteration:  3069/4400 Tran_loss: 1.880\n",
      "Epoch: 140/200 Iteration:  3080/4400 Tran_loss: 1.785\n",
      "Epoch: 141/200 Iteration:  3091/4400 Tran_loss: 1.874\n",
      "Epoch: 141/200 Iteration:  3102/4400 Tran_loss: 1.747\n",
      "Epoch: 142/200 Iteration:  3113/4400 Tran_loss: 1.823\n",
      "Epoch: 142/200 Iteration:  3124/4400 Tran_loss: 1.769\n",
      "Epoch: 143/200 Iteration:  3135/4400 Tran_loss: 1.881\n",
      "Epoch: 143/200 Iteration:  3146/4400 Tran_loss: 1.719\n",
      "Epoch: 144/200 Iteration:  3157/4400 Tran_loss: 1.868\n",
      "Epoch: 144/200 Iteration:  3168/4400 Tran_loss: 1.750\n",
      "Epoch: 145/200 Iteration:  3179/4400 Tran_loss: 1.798\n",
      "Epoch: 145/200 Iteration:  3190/4400 Tran_loss: 1.779\n",
      "Epoch: 146/200 Iteration:  3201/4400 Tran_loss: 1.824\n",
      "Epoch: 146/200 Iteration:  3212/4400 Tran_loss: 1.695\n",
      "Epoch: 147/200 Iteration:  3223/4400 Tran_loss: 1.919\n",
      "Epoch: 147/200 Iteration:  3234/4400 Tran_loss: 1.789\n",
      "Epoch: 148/200 Iteration:  3245/4400 Tran_loss: 1.888\n",
      "Epoch: 148/200 Iteration:  3256/4400 Tran_loss: 1.837\n",
      "Epoch: 149/200 Iteration:  3267/4400 Tran_loss: 1.920\n",
      "Epoch: 149/200 Iteration:  3278/4400 Tran_loss: 1.826\n",
      "Epoch: 150/200 Iteration:  3289/4400 Tran_loss: 1.907\n",
      "Epoch: 150/200 Iteration:  3300/4400 Tran_loss: 1.849\n",
      "Epoch: 151/200 Iteration:  3311/4400 Tran_loss: 1.948\n",
      "Epoch: 151/200 Iteration:  3322/4400 Tran_loss: 1.819\n",
      "Epoch: 152/200 Iteration:  3333/4400 Tran_loss: 1.941\n",
      "Epoch: 152/200 Iteration:  3344/4400 Tran_loss: 1.924\n"
     ]
    },
    {
     "name": "stdout",
     "output_type": "stream",
     "text": [
      "Epoch: 153/200 Iteration:  3355/4400 Tran_loss: 1.993\n",
      "Epoch: 153/200 Iteration:  3366/4400 Tran_loss: 1.816\n",
      "Epoch: 154/200 Iteration:  3377/4400 Tran_loss: 1.861\n",
      "Epoch: 154/200 Iteration:  3388/4400 Tran_loss: 1.677\n",
      "Epoch: 155/200 Iteration:  3399/4400 Tran_loss: 1.774\n",
      "Epoch: 155/200 Iteration:  3410/4400 Tran_loss: 1.654\n",
      "Epoch: 156/200 Iteration:  3421/4400 Tran_loss: 1.742\n",
      "Epoch: 156/200 Iteration:  3432/4400 Tran_loss: 1.666\n",
      "Epoch: 157/200 Iteration:  3443/4400 Tran_loss: 1.725\n",
      "Epoch: 157/200 Iteration:  3454/4400 Tran_loss: 1.576\n",
      "Epoch: 158/200 Iteration:  3465/4400 Tran_loss: 1.671\n",
      "Epoch: 158/200 Iteration:  3476/4400 Tran_loss: 1.565\n",
      "Epoch: 159/200 Iteration:  3487/4400 Tran_loss: 1.632\n",
      "Epoch: 159/200 Iteration:  3498/4400 Tran_loss: 1.551\n",
      "Epoch: 160/200 Iteration:  3509/4400 Tran_loss: 1.624\n",
      "Epoch: 160/200 Iteration:  3520/4400 Tran_loss: 1.529\n",
      "Epoch: 161/200 Iteration:  3531/4400 Tran_loss: 1.662\n",
      "Epoch: 161/200 Iteration:  3542/4400 Tran_loss: 1.544\n",
      "Epoch: 162/200 Iteration:  3553/4400 Tran_loss: 1.670\n",
      "Epoch: 162/200 Iteration:  3564/4400 Tran_loss: 1.581\n",
      "Epoch: 163/200 Iteration:  3575/4400 Tran_loss: 1.759\n",
      "Epoch: 163/200 Iteration:  3586/4400 Tran_loss: 1.658\n",
      "Epoch: 164/200 Iteration:  3597/4400 Tran_loss: 1.797\n",
      "Epoch: 164/200 Iteration:  3608/4400 Tran_loss: 1.689\n",
      "Epoch: 165/200 Iteration:  3619/4400 Tran_loss: 1.788\n",
      "Epoch: 165/200 Iteration:  3630/4400 Tran_loss: 1.632\n",
      "Epoch: 166/200 Iteration:  3641/4400 Tran_loss: 1.652\n",
      "Epoch: 166/200 Iteration:  3652/4400 Tran_loss: 1.477\n",
      "Epoch: 167/200 Iteration:  3663/4400 Tran_loss: 1.531\n",
      "Epoch: 167/200 Iteration:  3674/4400 Tran_loss: 1.395\n",
      "Epoch: 168/200 Iteration:  3685/4400 Tran_loss: 1.464\n",
      "Epoch: 168/200 Iteration:  3696/4400 Tran_loss: 1.346\n",
      "Epoch: 169/200 Iteration:  3707/4400 Tran_loss: 1.424\n",
      "Epoch: 169/200 Iteration:  3718/4400 Tran_loss: 1.305\n",
      "Epoch: 170/200 Iteration:  3729/4400 Tran_loss: 1.398\n",
      "Epoch: 170/200 Iteration:  3740/4400 Tran_loss: 1.294\n",
      "Epoch: 171/200 Iteration:  3751/4400 Tran_loss: 1.383\n",
      "Epoch: 171/200 Iteration:  3762/4400 Tran_loss: 1.271\n",
      "Epoch: 172/200 Iteration:  3773/4400 Tran_loss: 1.367\n",
      "Epoch: 172/200 Iteration:  3784/4400 Tran_loss: 1.256\n",
      "Epoch: 173/200 Iteration:  3795/4400 Tran_loss: 1.357\n",
      "Epoch: 173/200 Iteration:  3806/4400 Tran_loss: 1.252\n",
      "Epoch: 174/200 Iteration:  3817/4400 Tran_loss: 1.348\n",
      "Epoch: 174/200 Iteration:  3828/4400 Tran_loss: 1.243\n",
      "Epoch: 175/200 Iteration:  3839/4400 Tran_loss: 1.347\n",
      "Epoch: 175/200 Iteration:  3850/4400 Tran_loss: 1.247\n",
      "Epoch: 176/200 Iteration:  3861/4400 Tran_loss: 1.369\n",
      "Epoch: 176/200 Iteration:  3872/4400 Tran_loss: 1.229\n",
      "Epoch: 177/200 Iteration:  3883/4400 Tran_loss: 1.346\n",
      "Epoch: 177/200 Iteration:  3894/4400 Tran_loss: 1.192\n",
      "Epoch: 178/200 Iteration:  3905/4400 Tran_loss: 1.304\n",
      "Epoch: 178/200 Iteration:  3916/4400 Tran_loss: 1.243\n",
      "Epoch: 179/200 Iteration:  3927/4400 Tran_loss: 1.323\n",
      "Epoch: 179/200 Iteration:  3938/4400 Tran_loss: 1.192\n",
      "Epoch: 180/200 Iteration:  3949/4400 Tran_loss: 1.303\n",
      "Epoch: 180/200 Iteration:  3960/4400 Tran_loss: 1.222\n",
      "Epoch: 181/200 Iteration:  3971/4400 Tran_loss: 1.350\n",
      "Epoch: 181/200 Iteration:  3982/4400 Tran_loss: 1.196\n",
      "Epoch: 182/200 Iteration:  3993/4400 Tran_loss: 1.293\n",
      "Epoch: 182/200 Iteration:  4004/4400 Tran_loss: 1.245\n",
      "Epoch: 183/200 Iteration:  4015/4400 Tran_loss: 1.268\n",
      "Epoch: 183/200 Iteration:  4026/4400 Tran_loss: 1.151\n",
      "Epoch: 184/200 Iteration:  4037/4400 Tran_loss: 1.275\n",
      "Epoch: 184/200 Iteration:  4048/4400 Tran_loss: 1.107\n",
      "Epoch: 185/200 Iteration:  4059/4400 Tran_loss: 1.190\n",
      "Epoch: 185/200 Iteration:  4070/4400 Tran_loss: 1.074\n",
      "Epoch: 186/200 Iteration:  4081/4400 Tran_loss: 1.142\n",
      "Epoch: 186/200 Iteration:  4092/4400 Tran_loss: 1.059\n",
      "Epoch: 187/200 Iteration:  4103/4400 Tran_loss: 1.143\n",
      "Epoch: 187/200 Iteration:  4114/4400 Tran_loss: 1.072\n",
      "Epoch: 188/200 Iteration:  4125/4400 Tran_loss: 1.190\n",
      "Epoch: 188/200 Iteration:  4136/4400 Tran_loss: 1.047\n",
      "Epoch: 189/200 Iteration:  4147/4400 Tran_loss: 1.116\n",
      "Epoch: 189/200 Iteration:  4158/4400 Tran_loss: 1.018\n",
      "Epoch: 190/200 Iteration:  4169/4400 Tran_loss: 1.086\n",
      "Epoch: 190/200 Iteration:  4180/4400 Tran_loss: 1.012\n",
      "Epoch: 191/200 Iteration:  4191/4400 Tran_loss: 1.090\n",
      "Epoch: 191/200 Iteration:  4202/4400 Tran_loss: 0.969\n",
      "Epoch: 192/200 Iteration:  4213/4400 Tran_loss: 1.069\n",
      "Epoch: 192/200 Iteration:  4224/4400 Tran_loss: 0.952\n",
      "Epoch: 193/200 Iteration:  4235/4400 Tran_loss: 1.032\n",
      "Epoch: 193/200 Iteration:  4246/4400 Tran_loss: 0.949\n",
      "Epoch: 194/200 Iteration:  4257/4400 Tran_loss: 1.007\n",
      "Epoch: 194/200 Iteration:  4268/4400 Tran_loss: 0.922\n",
      "Epoch: 195/200 Iteration:  4279/4400 Tran_loss: 1.001\n",
      "Epoch: 195/200 Iteration:  4290/4400 Tran_loss: 0.904\n",
      "Epoch: 196/200 Iteration:  4301/4400 Tran_loss: 1.020\n",
      "Epoch: 196/200 Iteration:  4312/4400 Tran_loss: 0.895\n",
      "Epoch: 197/200 Iteration:  4323/4400 Tran_loss: 0.982\n",
      "Epoch: 197/200 Iteration:  4334/4400 Tran_loss: 0.906\n",
      "Epoch: 198/200 Iteration:  4345/4400 Tran_loss: 0.967\n",
      "Epoch: 198/200 Iteration:  4356/4400 Tran_loss: 0.894\n",
      "Epoch: 199/200 Iteration:  4367/4400 Tran_loss: 0.955\n",
      "Epoch: 199/200 Iteration:  4378/4400 Tran_loss: 0.864\n",
      "Epoch: 200/200 Iteration:  4389/4400 Tran_loss: 0.983\n",
      "Epoch: 200/200 Iteration:  4400/4400 Tran_loss: 0.844\n",
      "Model Trained and Saved\n"
     ]
    }
   ],
   "source": [
    "\"\"\"\n",
    "DON'T MODIFY ANYTHING IN THIS CELL\n",
    "\"\"\"\n",
    "batches = get_batches(int_text, batch_size, seq_length)\n",
    "\n",
    "session_cfg = tf.ConfigProto()\n",
    "session_cfg.gpu_options.allow_growth = True\n",
    "with tf.Session(graph=train_graph, config=session_cfg) as sess:\n",
    "    sess.run(tf.global_variables_initializer())\n",
    "    iteration = 1\n",
    "    for epoch_i in range(num_epochs):\n",
    "        state = sess.run(initial_state, {input_text: batches[0][0]})\n",
    "        for batch_i, (x, y) in enumerate(batches):\n",
    "            feed = {\n",
    "                input_text: x,\n",
    "                targets: y,\n",
    "                initial_state: state,\n",
    "                lr: learning_rate}\n",
    "            train_loss, state, _ = sess.run([cost, final_state, train_op], feed)\n",
    "\n",
    "            # Show every <show_every_n_batches> batches\n",
    "#             if (epoch_i * len(batches) + batch_i) % show_every_n_batches == 0:\n",
    "#                 print('Epoch {:>3} Batch {:>4}/{}   train_loss = {:.3f}'.format(\n",
    "#                     epoch_i,\n",
    "#                     batch_i,\n",
    "#                     len(batches),\n",
    "#                     train_loss))\n",
    "            if iteration % show_every_n_batches == 0:\n",
    "                print('Epoch: {:>3}/{}'.format(epoch_i+1, num_epochs),\n",
    "                      'Iteration: {:>5}/{}'.format(iteration, batches.shape[0] * num_epochs),\n",
    "                      'Tran_loss: {:.3f}'.format(train_loss))\n",
    "            iteration += 1\n",
    "\n",
    "    # Save Model\n",
    "    saver = tf.train.Saver()\n",
    "    saver.save(sess, save_dir)\n",
    "    print('Model Trained and Saved')"
   ]
  },
  {
   "cell_type": "markdown",
   "metadata": {},
   "source": [
    "## 储存参数\n",
    "储存 `seq_length` 和 `save_dir` 来生成新的电视剧剧本。"
   ]
  },
  {
   "cell_type": "code",
   "execution_count": 20,
   "metadata": {
    "collapsed": true
   },
   "outputs": [],
   "source": [
    "\"\"\"\n",
    "DON'T MODIFY ANYTHING IN THIS CELL\n",
    "\"\"\"\n",
    "# Save parameters for checkpoint\n",
    "helper.save_params((seq_length, save_dir))"
   ]
  },
  {
   "cell_type": "markdown",
   "metadata": {},
   "source": [
    "# 检查点"
   ]
  },
  {
   "cell_type": "code",
   "execution_count": 29,
   "metadata": {
    "collapsed": true
   },
   "outputs": [],
   "source": [
    "\"\"\"\n",
    "DON'T MODIFY ANYTHING IN THIS CELL\n",
    "\"\"\"\n",
    "import tensorflow as tf\n",
    "import numpy as np\n",
    "import helper\n",
    "import problem_unittests as tests\n",
    "\n",
    "_, vocab_to_int, int_to_vocab, token_dict = helper.load_preprocess()\n",
    "seq_length, load_dir = helper.load_params()"
   ]
  },
  {
   "cell_type": "markdown",
   "metadata": {},
   "source": [
    "## 实现生成函数\n",
    "### 获取 Tensors\n",
    "使用 [`get_tensor_by_name()`](https://www.tensorflow.org/api_docs/python/tf/Graph#get_tensor_by_name)函数从 `loaded_graph` 中获取 tensor。  使用下面的名称获取 tensor：\n",
    "\n",
    "- \"input:0\"\n",
    "- \"initial_state:0\"\n",
    "- \"final_state:0\"\n",
    "- \"probs:0\"\n",
    "\n",
    "返回下列元组中的 tensor `(InputTensor, InitialStateTensor, FinalStateTensor, ProbsTensor)`"
   ]
  },
  {
   "cell_type": "code",
   "execution_count": 30,
   "metadata": {},
   "outputs": [
    {
     "name": "stdout",
     "output_type": "stream",
     "text": [
      "Tests Passed\n"
     ]
    }
   ],
   "source": [
    "def get_tensors(loaded_graph):\n",
    "    \"\"\"\n",
    "    Get input, initial state, final state, and probabilities tensor from <loaded_graph>\n",
    "    :param loaded_graph: TensorFlow graph loaded from file\n",
    "    :return: Tuple (InputTensor, InitialStateTensor, FinalStateTensor, ProbsTensor)\n",
    "    \"\"\"\n",
    "    # TODO: Implement Function\n",
    "    input_tensor = loaded_graph.get_tensor_by_name('input:0')\n",
    "    initial_state_tensor = loaded_graph.get_tensor_by_name('initial_state:0')\n",
    "    final_state_tensor = loaded_graph.get_tensor_by_name('final_state:0')\n",
    "    probs_tensor = loaded_graph.get_tensor_by_name('probs:0')\n",
    "    return input_tensor, initial_state_tensor, final_state_tensor, probs_tensor\n",
    "\n",
    "\n",
    "\"\"\"\n",
    "DON'T MODIFY ANYTHING IN THIS CELL THAT IS BELOW THIS LINE\n",
    "\"\"\"\n",
    "tests.test_get_tensors(get_tensors)"
   ]
  },
  {
   "cell_type": "markdown",
   "metadata": {},
   "source": [
    "### 选择词汇\n",
    "实现 `pick_word()` 函数来使用 `probabilities` 选择下一个词汇。"
   ]
  },
  {
   "cell_type": "code",
   "execution_count": 31,
   "metadata": {},
   "outputs": [
    {
     "name": "stdout",
     "output_type": "stream",
     "text": [
      "Tests Passed\n"
     ]
    }
   ],
   "source": [
    "def pick_word(probabilities, int_to_vocab):\n",
    "    \"\"\"\n",
    "    Pick the next word in the generated text\n",
    "    :param probabilities: Probabilites of the next word\n",
    "    :param int_to_vocab: Dictionary of word ids as the keys and words as the values\n",
    "    :return: String of the predicted word\n",
    "    \"\"\"\n",
    "    # TODO: Implement Function\n",
    "    return np.random.choice(list(int_to_vocab.values()), p=probabilities)\n",
    "\n",
    "\n",
    "\"\"\"\n",
    "DON'T MODIFY ANYTHING IN THIS CELL THAT IS BELOW THIS LINE\n",
    "\"\"\"\n",
    "tests.test_pick_word(pick_word)"
   ]
  },
  {
   "cell_type": "markdown",
   "metadata": {},
   "source": [
    "## 生成电视剧剧本\n",
    "这将为你生成一个电视剧剧本。通过设置 `gen_length` 来调整你想生成的剧本长度。"
   ]
  },
  {
   "cell_type": "code",
   "execution_count": 32,
   "metadata": {
    "scrolled": true
   },
   "outputs": [
    {
     "name": "stdout",
     "output_type": "stream",
     "text": [
      "moe_szyslak: so dice. it. push some bucks that's would long moe_szyslak: drunk years. during!\n",
      "dying for wait. my homer_simpson: back right.\n",
      "!\n",
      "homer_simpson: what marge.! moe_szyslak: up so.\n",
      "?\n",
      "homer_simpson: they mr.! moe_szyslak: him about.\n",
      "?\n",
      "homer_simpson: no yeah.! sly here..\n",
      "?\n",
      "homer_simpson: we okay.! sly here..\n",
      "?\n",
      "homer_simpson: just ask.! sly here..\n",
      "?\n",
      "homer_simpson: still don't.. hey here.. c?\n",
      "tony that i.. ah here.. party?\n",
      "tony that i.. oh here.. once?\n",
      "party that i.. wow here.. got?\n",
      "tony that what.. beat here.. him?\n",
      "tony that we.. how here..!?\n",
      "moe that my miss. by here..!?\n",
      "homer's cut, king. with here..!?\n",
      "looks all, there. with had..!? waylon_smithers: like all\n"
     ]
    }
   ],
   "source": [
    "gen_length = 200\n",
    "# homer_simpson, moe_szyslak, or Barney_Gumble\n",
    "prime_word = 'moe_szyslak'\n",
    "\n",
    "\"\"\"\n",
    "DON'T MODIFY ANYTHING IN THIS CELL THAT IS BELOW THIS LINE\n",
    "\"\"\"\n",
    "loaded_graph = tf.Graph()\n",
    "with tf.Session(graph=loaded_graph) as sess:\n",
    "    # Load saved model\n",
    "    loader = tf.train.import_meta_graph(load_dir + '.meta')\n",
    "    loader.restore(sess, load_dir)\n",
    "\n",
    "    # Get Tensors from loaded model\n",
    "    input_text, initial_state, final_state, probs = get_tensors(loaded_graph)\n",
    "\n",
    "    # Sentences generation setup\n",
    "    gen_sentences = [prime_word + ':']\n",
    "    prev_state = sess.run(initial_state, {input_text: np.array([[1]])})\n",
    "\n",
    "    # Generate sentences\n",
    "    for n in range(gen_length):\n",
    "        # Dynamic Input\n",
    "        dyn_input = [[vocab_to_int[word] for word in gen_sentences[-seq_length:]]]\n",
    "        dyn_seq_length = len(dyn_input[0])\n",
    "\n",
    "        # Get Prediction\n",
    "        probabilities, prev_state = sess.run(\n",
    "            [probs, final_state],\n",
    "            {input_text: dyn_input, initial_state: prev_state})\n",
    "        \n",
    "        pred_word = pick_word(probabilities[dyn_seq_length-1], int_to_vocab)\n",
    "\n",
    "        gen_sentences.append(pred_word)\n",
    "    \n",
    "    # Remove tokens\n",
    "    tv_script = ' '.join(gen_sentences)\n",
    "    for key, token in token_dict.items():\n",
    "        ending = ' ' if key in ['\\n', '(', '\"'] else ''\n",
    "        tv_script = tv_script.replace(' ' + token.lower(), key)\n",
    "    tv_script = tv_script.replace('\\n ', '\\n')\n",
    "    tv_script = tv_script.replace('( ', '(')\n",
    "        \n",
    "    print(tv_script)"
   ]
  },
  {
   "cell_type": "markdown",
   "metadata": {},
   "source": [
    "# 这个电视剧剧本是无意义的\n",
    "如果这个电视剧剧本毫无意义，那也没有关系。我们的训练文本不到一兆字节。为了获得更好的结果，你需要使用更小的词汇范围或是更多数据。幸运的是，我们的确拥有更多数据！在本项目开始之初我们也曾提过，这是[另一个数据集](https://www.kaggle.com/wcukierski/the-simpsons-by-the-data)的子集。我们并没有让你基于所有数据进行训练，因为这将耗费大量时间。然而，你可以随意使用这些数据训练你的神经网络。当然，是在完成本项目之后。\n",
    "# 提交项目\n",
    "在提交项目时，请确保你在保存 notebook 前运行了所有的单元格代码。请将 notebook 文件保存为 \"dlnd_tv_script_generation.ipynb\"，并将它作为 HTML 文件保存在 \"File\" -> \"Download as\" 中。请将 \"helper.py\" 和 \"problem_unittests.py\" 文件一并提交。"
   ]
  }
 ],
 "metadata": {
  "kernelspec": {
   "display_name": "Python 3",
   "language": "python",
   "name": "python3"
  },
  "language_info": {
   "codemirror_mode": {
    "name": "ipython",
    "version": 3
   },
   "file_extension": ".py",
   "mimetype": "text/x-python",
   "name": "python",
   "nbconvert_exporter": "python",
   "pygments_lexer": "ipython3",
   "version": "3.5.4"
  }
 },
 "nbformat": 4,
 "nbformat_minor": 2
}
