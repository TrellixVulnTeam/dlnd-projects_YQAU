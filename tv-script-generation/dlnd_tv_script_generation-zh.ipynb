{
 "cells": [
  {
   "cell_type": "markdown",
   "metadata": {},
   "source": [
    "# 生成电视剧剧本\n",
    "\n",
    "在这个项目中，你将使用 RNN 创作你自己的[《辛普森一家》](https://zh.wikipedia.org/wiki/%E8%BE%9B%E6%99%AE%E6%A3%AE%E4%B8%80%E5%AE%B6)电视剧剧本。你将会用到《辛普森一家》第 27 季中部分剧本的[数据集](https://www.kaggle.com/wcukierski/the-simpsons-by-the-data)。你创建的神经网络将为一个在 [Moe 酒馆](https://simpsonswiki.com/wiki/Moe's_Tavern)中的场景生成一集新的剧本。\n",
    "## 获取数据\n",
    "我们早已为你提供了数据。你将使用原始数据集的子集，它只包括 Moe 酒馆中的场景。数据中并不包括酒馆的其他版本，比如 “Moe 的山洞”、“燃烧的 Moe 酒馆”、“Moe 叔叔的家庭大餐”等等。"
   ]
  },
  {
   "cell_type": "code",
   "execution_count": 1,
   "metadata": {},
   "outputs": [
    {
     "data": {
      "text/plain": [
       "305189"
      ]
     },
     "execution_count": 1,
     "metadata": {},
     "output_type": "execute_result"
    }
   ],
   "source": [
    "\"\"\"\n",
    "DON'T MODIFY ANYTHING IN THIS CELL\n",
    "\"\"\"\n",
    "import helper\n",
    "\n",
    "data_dir = './data/simpsons/moes_tavern_lines.txt'\n",
    "text = helper.load_data(data_dir)\n",
    "# Ignore notice, since we don't use it for analysing the data\n",
    "text = text[81:]\n",
    "text[:800]\n",
    "len(text)"
   ]
  },
  {
   "cell_type": "markdown",
   "metadata": {},
   "source": [
    "## 探索数据\n",
    "使用 `view_sentence_range` 来查看数据的不同部分。"
   ]
  },
  {
   "cell_type": "code",
   "execution_count": 2,
   "metadata": {
    "scrolled": false
   },
   "outputs": [
    {
     "name": "stdout",
     "output_type": "stream",
     "text": [
      "Dataset Stats\n",
      "Roughly the number of unique words: 11492\n",
      "Number of scenes: 262\n",
      "Average number of sentences in each scene: 15.248091603053435\n",
      "Number of lines: 4257\n",
      "Average number of words in each line: 11.50434578341555\n",
      "\n",
      "The sentences 0 to 10:\n",
      "Moe_Szyslak: (INTO PHONE) Moe's Tavern. Where the elite meet to drink.\n",
      "Bart_Simpson: Eh, yeah, hello, is Mike there? Last name, Rotch.\n",
      "Moe_Szyslak: (INTO PHONE) Hold on, I'll check. (TO BARFLIES) Mike Rotch. Mike Rotch. Hey, has anybody seen Mike Rotch, lately?\n",
      "Moe_Szyslak: (INTO PHONE) Listen you little puke. One of these days I'm gonna catch you, and I'm gonna carve my name on your back with an ice pick.\n",
      "Moe_Szyslak: What's the matter Homer? You're not your normal effervescent self.\n",
      "Homer_Simpson: I got my problems, Moe. Give me another one.\n",
      "Moe_Szyslak: Homer, hey, you should not drink to forget your problems.\n",
      "Barney_Gumble: Yeah, you should only drink to enhance your social skills.\n",
      "\n",
      "\n"
     ]
    }
   ],
   "source": [
    "view_sentence_range = (0, 10)\n",
    "\n",
    "\"\"\"\n",
    "DON'T MODIFY ANYTHING IN THIS CELL\n",
    "\"\"\"\n",
    "import numpy as np\n",
    "\n",
    "print('Dataset Stats')\n",
    "print('Roughly the number of unique words: {}'.format(len({word: None for word in text.split()})))\n",
    "scenes = text.split('\\n\\n')\n",
    "print('Number of scenes: {}'.format(len(scenes)))\n",
    "sentence_count_scene = [scene.count('\\n') for scene in scenes]\n",
    "print('Average number of sentences in each scene: {}'.format(np.average(sentence_count_scene)))\n",
    "\n",
    "sentences = [sentence for scene in scenes for sentence in scene.split('\\n')]\n",
    "print('Number of lines: {}'.format(len(sentences)))\n",
    "word_count_sentence = [len(sentence.split()) for sentence in sentences]\n",
    "print('Average number of words in each line: {}'.format(np.average(word_count_sentence)))\n",
    "\n",
    "print()\n",
    "print('The sentences {} to {}:'.format(*view_sentence_range))\n",
    "print('\\n'.join(text.split('\\n')[view_sentence_range[0]:view_sentence_range[1]]))"
   ]
  },
  {
   "cell_type": "code",
   "execution_count": 3,
   "metadata": {},
   "outputs": [
    {
     "data": {
      "text/plain": [
       "''"
      ]
     },
     "execution_count": 3,
     "metadata": {},
     "output_type": "execute_result"
    }
   ],
   "source": [
    "text.split('\\n')[9]"
   ]
  },
  {
   "cell_type": "markdown",
   "metadata": {},
   "source": [
    "## 实现预处理函数\n",
    "对数据集进行的第一个操作是预处理。请实现下面两个预处理函数：\n",
    "\n",
    "- 查询表\n",
    "- 标记符号的字符串\n",
    "\n",
    "### 查询表\n",
    "要创建词嵌入，你首先要将词语转换为 id。请在这个函数中创建两个字典：\n",
    "\n",
    "- 将词语转换为 id 的字典，我们称它为 `vocab_to_int`\n",
    "- 将 id 转换为词语的字典，我们称它为 `int_to_vocab`\n",
    "\n",
    "请在下面的元组中返回这些字典\n",
    " `(vocab_to_int, int_to_vocab)`"
   ]
  },
  {
   "cell_type": "code",
   "execution_count": 4,
   "metadata": {
    "scrolled": true
   },
   "outputs": [
    {
     "name": "stdout",
     "output_type": "stream",
     "text": [
      "Tests Passed\n"
     ]
    }
   ],
   "source": [
    "import numpy as np\n",
    "import problem_unittests as tests\n",
    "from collections import Counter\n",
    "\n",
    "def create_lookup_tables(text):\n",
    "    \"\"\"\n",
    "    Create lookup tables for vocabulary\n",
    "    :param text: The text of tv scripts split into words\n",
    "    :return: A tuple of dicts (vocab_to_int, int_to_vocab)\n",
    "    \"\"\"\n",
    "#     TODO: Implement Function\n",
    "    counts = Counter(text)\n",
    "    vocab = sorted(counts, key=counts.get, reverse=True)\n",
    "    vocab_to_int = {word: i for i, word in enumerate(vocab)}\n",
    "    int_to_vocab = {i: word for word, i in vocab_to_int.items()}\n",
    "    \n",
    "    # uncorrect code \n",
    "#     vocab_to_int = {word: i for i, word in enumerate(text)}\n",
    "#     int_to_vocab = {i: word for word, i in vocab_to_int.items()}\n",
    "    return vocab_to_int, int_to_vocab\n",
    "\n",
    "\n",
    "\"\"\"\n",
    "DON'T MODIFY ANYTHING IN THIS CELL THAT IS BELOW THIS LINE\n",
    "\"\"\"\n",
    "tests.test_create_lookup_tables(create_lookup_tables)"
   ]
  },
  {
   "cell_type": "markdown",
   "metadata": {},
   "source": [
    "### 标记符号的字符串\n",
    "我们会使用空格当作分隔符，来将剧本分割为词语数组。然而，句号和感叹号等符号使得神经网络难以分辨“再见”和“再见！”之间的区别。\n",
    "\n",
    "实现函数 `token_lookup` 来返回一个字典，这个字典用于将 “!” 等符号标记为 “||Exclamation_Mark||” 形式。为下列符号创建一个字典，其中符号为标志，值为标记。\n",
    "\n",
    "- period ( . )\n",
    "- comma ( , )\n",
    "- quotation mark ( \" )\n",
    "- semicolon ( ; )\n",
    "- exclamation mark ( ! )\n",
    "- question mark ( ? )\n",
    "- left parenthesis ( ( )\n",
    "- right parenthesis ( ) )\n",
    "- dash ( -- )\n",
    "- return ( \\n )\n",
    "\n",
    "这个字典将用于标记符号并在其周围添加分隔符（空格）。这能将符号视作单独词汇分割开来，并使神经网络更轻松地预测下一个词汇。请确保你并没有使用容易与词汇混淆的标记。与其使用 “dash” 这样的标记，试试使用“||dash||”。"
   ]
  },
  {
   "cell_type": "code",
   "execution_count": 5,
   "metadata": {},
   "outputs": [
    {
     "name": "stdout",
     "output_type": "stream",
     "text": [
      "Tests Passed\n"
     ]
    }
   ],
   "source": [
    "def token_lookup():\n",
    "    \"\"\"\n",
    "    Generate a dict to turn punctuation into a token.\n",
    "    :return: Tokenize dictionary where the key is the punctuation and the value is the token\n",
    "    \"\"\"\n",
    "    # TODO: Implement Function\n",
    "    token_dict = {'.': '||period||',\n",
    "                  ',': '||comma||',\n",
    "                  '\"': '||quotation_mark||',\n",
    "                  ';': '||semicolon||',\n",
    "                  '!': '||exclamation_mark||',\n",
    "                  '?': '||question_mark||',\n",
    "                  '(': '||left_parenthesis||',\n",
    "                  ')': '||right_parenthesis||',\n",
    "                  '--': '||dash||',\n",
    "                  '\\n': '||return||'}\n",
    "    return token_dict\n",
    "\n",
    "\"\"\"\n",
    "DON'T MODIFY ANYTHING IN THIS CELL THAT IS BELOW THIS LINE\n",
    "\"\"\"\n",
    "tests.test_tokenize(token_lookup)"
   ]
  },
  {
   "cell_type": "markdown",
   "metadata": {},
   "source": [
    "## 预处理并保存所有数据\n",
    "运行以下代码将预处理所有数据，并将它们保存至文件。"
   ]
  },
  {
   "cell_type": "code",
   "execution_count": 6,
   "metadata": {
    "collapsed": true
   },
   "outputs": [],
   "source": [
    "\"\"\"\n",
    "DON'T MODIFY ANYTHING IN THIS CELL\n",
    "\"\"\"\n",
    "# Preprocess Training, Validation, and Testing Data\n",
    "helper.preprocess_and_save_data(data_dir, token_lookup, create_lookup_tables)"
   ]
  },
  {
   "cell_type": "markdown",
   "metadata": {},
   "source": [
    "# 检查点\n",
    "这是你遇到的第一个检点。如果你想要回到这个 notebook，或需要重新打开 notebook，你都可以从这里开始。预处理的数据都已经保存完毕。"
   ]
  },
  {
   "cell_type": "code",
   "execution_count": 7,
   "metadata": {
    "collapsed": true
   },
   "outputs": [],
   "source": [
    "\"\"\"\n",
    "DON'T MODIFY ANYTHING IN THIS CELL\n",
    "\"\"\"\n",
    "import helper\n",
    "import numpy as np\n",
    "import problem_unittests as tests\n",
    "\n",
    "int_text, vocab_to_int, int_to_vocab, token_dict = helper.load_preprocess()"
   ]
  },
  {
   "cell_type": "code",
   "execution_count": 8,
   "metadata": {},
   "outputs": [
    {
     "data": {
      "text/plain": [
       "69100"
      ]
     },
     "execution_count": 8,
     "metadata": {},
     "output_type": "execute_result"
    }
   ],
   "source": [
    "len(int_text)"
   ]
  },
  {
   "cell_type": "markdown",
   "metadata": {},
   "source": [
    "## 创建神经网络\n",
    "你将通过实现下面的函数，来创造用于构建 RNN 的必要元素：\n",
    "\n",
    "- get_inputs\n",
    "- get_init\\_cell\n",
    "- get_embed\n",
    "- build_rnn\n",
    "- build_nn\n",
    "- get_batches\n",
    "\n",
    "### 检查 TensorFlow 版本并访问 GPU"
   ]
  },
  {
   "cell_type": "code",
   "execution_count": 9,
   "metadata": {},
   "outputs": [
    {
     "name": "stdout",
     "output_type": "stream",
     "text": [
      "TensorFlow Version: 1.0.1\n",
      "Default GPU Device: /gpu:0\n"
     ]
    }
   ],
   "source": [
    "\"\"\"\n",
    "DON'T MODIFY ANYTHING IN THIS CELL\n",
    "\"\"\"\n",
    "from distutils.version import LooseVersion\n",
    "import warnings\n",
    "import tensorflow as tf\n",
    "\n",
    "# Check TensorFlow Version\n",
    "assert LooseVersion(tf.__version__) >= LooseVersion('1.0'), 'Please use TensorFlow version 1.0 or newer'\n",
    "print('TensorFlow Version: {}'.format(tf.__version__))\n",
    "\n",
    "# Check for a GPU\n",
    "if not tf.test.gpu_device_name():\n",
    "    warnings.warn('No GPU found. Please use a GPU to train your neural network.')\n",
    "else:\n",
    "    print('Default GPU Device: {}'.format(tf.test.gpu_device_name()))"
   ]
  },
  {
   "cell_type": "markdown",
   "metadata": {},
   "source": [
    "### 输入\n",
    "\n",
    "实现函数 `get_inputs()` 来为神经网络创建 TF 占位符。它将创建下列占位符：\n",
    "\n",
    "- 使用 [TF 占位符](https://www.tensorflow.org/api_docs/python/tf/placeholder) `name` 参量输入 \"input\" 文本占位符。\n",
    "- Targets 占位符\n",
    "- Learning Rate 占位符\n",
    "\n",
    "返回下列元组中的占位符 `(Input, Targets, LearningRate)`"
   ]
  },
  {
   "cell_type": "code",
   "execution_count": 10,
   "metadata": {},
   "outputs": [
    {
     "name": "stdout",
     "output_type": "stream",
     "text": [
      "Tests Passed\n"
     ]
    }
   ],
   "source": [
    "def get_inputs():\n",
    "    \"\"\"\n",
    "    Create TF Placeholders for input, targets, and learning rate.\n",
    "    :return: Tuple (input, targets, learning rate)\n",
    "    \"\"\"\n",
    "    # TODO: Implement Function\n",
    "    inputs = tf.placeholder(tf.int32, [None, None], name='input')\n",
    "    targets = tf.placeholder(tf.int32, [None, None], name='targets')\n",
    "    learning_rate = tf.placeholder(tf.float32, name='learning_rate')\n",
    "    return inputs, targets, learning_rate\n",
    "\n",
    "\n",
    "\"\"\"\n",
    "DON'T MODIFY ANYTHING IN THIS CELL THAT IS BELOW THIS LINE\n",
    "\"\"\"\n",
    "tests.test_get_inputs(get_inputs)"
   ]
  },
  {
   "cell_type": "markdown",
   "metadata": {},
   "source": [
    "### 创建 RNN Cell 并初始化\n",
    "\n",
    "在 [`MultiRNNCell`](https://www.tensorflow.org/api_docs/python/tf/contrib/rnn/MultiRNNCell) 中堆叠一个或多个 [`BasicLSTMCells`](https://www.tensorflow.org/api_docs/python/tf/contrib/rnn/BasicLSTMCell)\n",
    "\n",
    "- 使用 `rnn_size` 设定 RNN 大小。\n",
    "- 使用 MultiRNNCell 的 [`zero_state()`](https://www.tensorflow.org/api_docs/python/tf/contrib/rnn/MultiRNNCell#zero_state) 函数初始化 Cell 状态\n",
    "- 使用 [`tf.identity()`](https://www.tensorflow.org/api_docs/python/tf/identity) 为初始状态应用名称 \"initial_state\"\n",
    " \n",
    "\n",
    "返回 cell 和下列元组中的初始状态 `(Cell, InitialState)`"
   ]
  },
  {
   "cell_type": "code",
   "execution_count": 11,
   "metadata": {},
   "outputs": [
    {
     "name": "stdout",
     "output_type": "stream",
     "text": [
      "Tests Passed\n"
     ]
    }
   ],
   "source": [
    "def get_init_cell(batch_size, rnn_size):\n",
    "    \"\"\"\n",
    "    Create an RNN Cell and initialize it.\n",
    "    :param batch_size: Size of batches\n",
    "    :param rnn_size: Size of RNNs\n",
    "    :return: Tuple (cell, initialize state)\n",
    "    \"\"\"\n",
    "    # TODO: Implement Function\n",
    "    lstm = tf.contrib.rnn.BasicLSTMCell(rnn_size)\n",
    "    cell = tf.contrib.rnn.MultiRNNCell([lstm] * 2)\n",
    "    initial_state = cell.zero_state(batch_size, tf.float32)\n",
    "    initial_state = tf.identity(initial_state, name='initial_state')\n",
    "    return cell, initial_state\n",
    "\n",
    "\n",
    "\"\"\"\n",
    "DON'T MODIFY ANYTHING IN THIS CELL THAT IS BELOW THIS LINE\n",
    "\"\"\"\n",
    "tests.test_get_init_cell(get_init_cell)"
   ]
  },
  {
   "cell_type": "markdown",
   "metadata": {},
   "source": [
    "### 词嵌入\n",
    "使用 TensorFlow 将嵌入运用到 `input_data` 中。\n",
    "返回嵌入序列。"
   ]
  },
  {
   "cell_type": "code",
   "execution_count": 12,
   "metadata": {},
   "outputs": [
    {
     "name": "stdout",
     "output_type": "stream",
     "text": [
      "Tests Passed\n"
     ]
    }
   ],
   "source": [
    "def get_embed(input_data, vocab_size, embed_dim):\n",
    "    \"\"\"\n",
    "    Create embedding for <input_data>.\n",
    "    :param input_data: TF placeholder for text input.\n",
    "    :param vocab_size: Number of words in vocabulary.\n",
    "    :param embed_dim: Number of embedding dimensions\n",
    "    :return: Embedded input.\n",
    "    \"\"\"\n",
    "    # TODO: Implement Function\n",
    "    embedding = tf.Variable(tf.truncated_normal([vocab_size, embed_dim], stddev=0.1))\n",
    "    embed = tf.nn.embedding_lookup(embedding, input_data)\n",
    "    return embed\n",
    "\n",
    "\n",
    "\"\"\"\n",
    "DON'T MODIFY ANYTHING IN THIS CELL THAT IS BELOW THIS LINE\n",
    "\"\"\"\n",
    "tests.test_get_embed(get_embed)"
   ]
  },
  {
   "cell_type": "markdown",
   "metadata": {},
   "source": [
    "### 创建 RNN\n",
    "你已经在 `get_init_cell()` 函数中创建了 RNN Cell。是时候使用这个 Cell 来创建 RNN了。\n",
    "\n",
    "- 使用 [`tf.nn.dynamic_rnn()`](https://www.tensorflow.org/api_docs/python/tf/nn/dynamic_rnn) 创建 RNN\n",
    "- 使用 [`tf.identity()`](https://www.tensorflow.org/api_docs/python/tf/identity) 将名称 \"final_state\" 应用到最终状态中\n",
    "\n",
    "\n",
    "返回下列元组中的输出和最终状态`(Outputs, FinalState)`"
   ]
  },
  {
   "cell_type": "code",
   "execution_count": 13,
   "metadata": {},
   "outputs": [
    {
     "name": "stdout",
     "output_type": "stream",
     "text": [
      "Tests Passed\n"
     ]
    }
   ],
   "source": [
    "def build_rnn(cell, inputs):\n",
    "    \"\"\"\n",
    "    Create a RNN using a RNN Cell\n",
    "    :param cell: RNN Cell\n",
    "    :param inputs: Input text data\n",
    "    :return: Tuple (Outputs, Final State)\n",
    "    \"\"\"\n",
    "    # TODO: Implement Function\n",
    "    outputs, final_state = tf.nn.dynamic_rnn(cell, inputs, dtype=tf.float32)\n",
    "    final_state = tf.identity(final_state, name='final_state')\n",
    "    return outputs, final_state\n",
    "\n",
    "\n",
    "\"\"\"\n",
    "DON'T MODIFY ANYTHING IN THIS CELL THAT IS BELOW THIS LINE\n",
    "\"\"\"\n",
    "tests.test_build_rnn(build_rnn)"
   ]
  },
  {
   "cell_type": "markdown",
   "metadata": {},
   "source": [
    "### 构建神经网络\n",
    "应用你在上面实现的函数，来：\n",
    "\n",
    "- 使用你的 `get_embed(input_data, vocab_size, embed_dim)` 函数将嵌入应用到 `input_data` 中\n",
    "- 使用 `cell` 和你的 `build_rnn(cell, inputs)` 函数来创建 RNN\n",
    "- 应用一个完全联通线性激活和 `vocab_size` 的分层作为输出数量。\n",
    "\n",
    "返回下列元组中的 logit 和最终状态 `Logits, FinalState`"
   ]
  },
  {
   "cell_type": "code",
   "execution_count": 14,
   "metadata": {},
   "outputs": [
    {
     "name": "stdout",
     "output_type": "stream",
     "text": [
      "Tests Passed\n"
     ]
    }
   ],
   "source": [
    "def build_nn(cell, rnn_size, input_data, vocab_size, embed_dim):\n",
    "    \"\"\"\n",
    "    Build part of the neural network\n",
    "    :param cell: RNN cell\n",
    "    :param rnn_size: Size of rnns\n",
    "    :param input_data: Input data\n",
    "    :param vocab_size: Vocabulary size\n",
    "    :param embed_dim: Number of embedding dimensions\n",
    "    :return: Tuple (Logits, FinalState)\n",
    "    \"\"\"\n",
    "    # TODO: Implement Function\n",
    "    embed = get_embed(input_data, vocab_size, embed_dim)\n",
    "    outputs, final_state = build_rnn(cell, embed)\n",
    "    logits = tf.contrib.layers.fully_connected(outputs, vocab_size, activation_fn=None)\n",
    "    return logits, final_state\n",
    "\n",
    "\n",
    "\"\"\"\n",
    "DON'T MODIFY ANYTHING IN THIS CELL THAT IS BELOW THIS LINE\n",
    "\"\"\"\n",
    "tests.test_build_nn(build_nn)"
   ]
  },
  {
   "cell_type": "markdown",
   "metadata": {},
   "source": [
    "### 批次\n",
    "\n",
    "实现 `get_batches` 来使用 `int_text` 创建输入与目标批次。这些批次应为 Numpy 数组，并具有形状    \n",
    "`(number of batches, 2, batch size, sequence length)`。每个批次包含两个元素：\n",
    "\n",
    "- 第一个元素为**输入**的单独批次，并具有形状 `[batch size, sequence length]`\n",
    "- 第二个元素为**目标**的单独批次，并具有形状 `[batch size, sequence length]`\n",
    "\n",
    "如果你无法在最后一个批次中填入足够数据，请放弃这个批次。\n",
    "\n",
    "例如 `get_batches([1, 2, 3, 4, 5, 6, 7, 8, 9, 10, 11, 12, 13, 14, 15], 2, 3)` 将返回下面这个 Numpy 数组："
   ]
  },
  {
   "cell_type": "markdown",
   "metadata": {},
   "source": [
    "[  \n",
    "   First Batch  \n",
    "  [  \n",
    "    Batch of Input\n",
    "    [[ 1  2  3], [ 7  8  9]],\n",
    "    Batch of targets\n",
    "    [[ 2  3  4], [ 8  9 10]]\n",
    "  ],\n",
    " \n",
    "  Second Batch\n",
    "  [\n",
    "    Batch of Input\n",
    "    [[ 4  5  6], [10 11 12]],\n",
    "    Batch of targets\n",
    "    [[ 5  6  7], [11 12 13]]\n",
    "  ]\n",
    "]"
   ]
  },
  {
   "cell_type": "code",
   "execution_count": 15,
   "metadata": {},
   "outputs": [
    {
     "name": "stdout",
     "output_type": "stream",
     "text": [
      "Tests Passed\n"
     ]
    }
   ],
   "source": [
    "def get_batches(int_text, batch_size, seq_length):\n",
    "    \"\"\"\n",
    "    Return batches of input and target\n",
    "    :param int_text: Text with the words replaced by their ids\n",
    "    :param batch_size: The size of batch\n",
    "    :param seq_length: The length of sequence\n",
    "    :return: Batches as a Numpy array\n",
    "    \"\"\"\n",
    "    # TODO: Implement Function\n",
    "    words_per_batch = batch_size * seq_length\n",
    "    n_batches = len(int_text) // words_per_batch\n",
    "    int_text = np.array(int_text[:n_batches * words_per_batch])\n",
    "    int_text = int_text.reshape(batch_size, -1)\n",
    "    \n",
    "    batches = []\n",
    "    for i in range(0, int_text.shape[1], seq_length):\n",
    "        x = int_text[:, i:i+seq_length]\n",
    "        y = np.zeros_like(x)\n",
    "        y[:, :-1], y[:, -1] = x[:, 1:], x[:, 0]\n",
    "        batches.append([x, y])\n",
    "        \n",
    "    return np.array(batches)\n",
    "\n",
    "\"\"\"\n",
    "DON'T MODIFY ANYTHING IN THIS CELL THAT IS BELOW THIS LINE\n",
    "\"\"\"\n",
    "tests.test_get_batches(get_batches)"
   ]
  },
  {
   "cell_type": "markdown",
   "metadata": {},
   "source": [
    "## 神经网络训练\n",
    "### 超参数\n",
    "调整下列参数:\n",
    "\n",
    "- 将 `num_epochs` 设置为训练次数。\n",
    "- 将 `batch_size` 设置为程序组大小。\n",
    "- 将 `rnn_size` 设置为 RNN 大小。\n",
    "- 将 `embed_dim` 设置为嵌入大小。\n",
    "- 将 `seq_length` 设置为序列长度。\n",
    "- 将 `learning_rate` 设置为学习率。\n",
    "- 将 `show_every_n_batches` 设置为神经网络应输出的程序组数量。"
   ]
  },
  {
   "cell_type": "code",
   "execution_count": 16,
   "metadata": {
    "collapsed": true
   },
   "outputs": [],
   "source": [
    "# Number of Epochs\n",
    "num_epochs = 200\n",
    "# Batch Size\n",
    "batch_size = 10\n",
    "# RNN Size\n",
    "rnn_size = 512\n",
    "# Embedding Dimension Size\n",
    "embed_dim = 300\n",
    "# Sequence Length\n",
    "seq_length = 115\n",
    "# Learning Rate\n",
    "learning_rate = 0.001\n",
    "# Show stats for every n number of batches\n",
    "show_every_n_batches = 30\n",
    "\n",
    "\"\"\"\n",
    "DON'T MODIFY ANYTHING IN THIS CELL THAT IS BELOW THIS LINE\n",
    "\"\"\"\n",
    "save_dir = './save'"
   ]
  },
  {
   "cell_type": "markdown",
   "metadata": {},
   "source": [
    "### 创建图表\n",
    "使用你实现的神经网络创建图表。"
   ]
  },
  {
   "cell_type": "code",
   "execution_count": 17,
   "metadata": {
    "collapsed": true
   },
   "outputs": [],
   "source": [
    "\"\"\"\n",
    "DON'T MODIFY ANYTHING IN THIS CELL\n",
    "\"\"\"\n",
    "from tensorflow.contrib import seq2seq\n",
    "\n",
    "train_graph = tf.Graph()\n",
    "with train_graph.as_default():\n",
    "    vocab_size = len(int_to_vocab)\n",
    "    input_text, targets, lr = get_inputs()\n",
    "    input_data_shape = tf.shape(input_text)\n",
    "    cell, initial_state = get_init_cell(input_data_shape[0], rnn_size)\n",
    "    logits, final_state = build_nn(cell, rnn_size, input_text, vocab_size, embed_dim)\n",
    "\n",
    "    # Probabilities for generating words\n",
    "    probs = tf.nn.softmax(logits, name='probs')\n",
    "\n",
    "    # Loss function\n",
    "    cost = seq2seq.sequence_loss(\n",
    "        logits,\n",
    "        targets,\n",
    "        tf.ones([input_data_shape[0], input_data_shape[1]]))\n",
    "\n",
    "    # Optimizer\n",
    "    optimizer = tf.train.AdamOptimizer(lr)\n",
    "\n",
    "    # Gradient Clipping\n",
    "    gradients = optimizer.compute_gradients(cost)\n",
    "    capped_gradients = [(tf.clip_by_value(grad, -1., 1.), var) for grad, var in gradients if grad is not None]\n",
    "    train_op = optimizer.apply_gradients(capped_gradients)"
   ]
  },
  {
   "cell_type": "markdown",
   "metadata": {},
   "source": [
    "## 训练\n",
    "在预处理数据中训练神经网络。如果你遇到困难，请查看这个[表格](https://discussions.udacity.com/)，看看是否有人遇到了和你一样的问题。"
   ]
  },
  {
   "cell_type": "code",
   "execution_count": 18,
   "metadata": {},
   "outputs": [
    {
     "data": {
      "text/plain": [
       "(60, 2, 10, 115)"
      ]
     },
     "execution_count": 18,
     "metadata": {},
     "output_type": "execute_result"
    }
   ],
   "source": [
    "batches = get_batches(int_text, batch_size, seq_length)\n",
    "batches.shape"
   ]
  },
  {
   "cell_type": "code",
   "execution_count": 19,
   "metadata": {
    "scrolled": true
   },
   "outputs": [
    {
     "name": "stdout",
     "output_type": "stream",
     "text": [
      "Epoch:   1/200 Iteration:    30/12000 Tran_loss: 6.558\n",
      "Epoch:   1/200 Iteration:    60/12000 Tran_loss: 6.340\n",
      "Epoch:   2/200 Iteration:    30/12000 Tran_loss: 6.212\n",
      "Epoch:   2/200 Iteration:    60/12000 Tran_loss: 6.189\n",
      "Epoch:   3/200 Iteration:    30/12000 Tran_loss: 6.229\n",
      "Epoch:   3/200 Iteration:    60/12000 Tran_loss: 6.190\n",
      "Epoch:   4/200 Iteration:    30/12000 Tran_loss: 6.216\n",
      "Epoch:   4/200 Iteration:    60/12000 Tran_loss: 6.179\n",
      "Epoch:   5/200 Iteration:    30/12000 Tran_loss: 6.220\n",
      "Epoch:   5/200 Iteration:    60/12000 Tran_loss: 6.174\n",
      "Epoch:   6/200 Iteration:    30/12000 Tran_loss: 6.214\n",
      "Epoch:   6/200 Iteration:    60/12000 Tran_loss: 6.174\n",
      "Epoch:   7/200 Iteration:    30/12000 Tran_loss: 6.234\n",
      "Epoch:   7/200 Iteration:    60/12000 Tran_loss: 6.149\n",
      "Epoch:   8/200 Iteration:    30/12000 Tran_loss: 6.095\n",
      "Epoch:   8/200 Iteration:    60/12000 Tran_loss: 5.962\n",
      "Epoch:   9/200 Iteration:    30/12000 Tran_loss: 5.993\n",
      "Epoch:   9/200 Iteration:    60/12000 Tran_loss: 5.872\n",
      "Epoch:  10/200 Iteration:    30/12000 Tran_loss: 5.917\n",
      "Epoch:  10/200 Iteration:    60/12000 Tran_loss: 5.799\n",
      "Epoch:  11/200 Iteration:    30/12000 Tran_loss: 5.855\n",
      "Epoch:  11/200 Iteration:    60/12000 Tran_loss: 5.728\n",
      "Epoch:  12/200 Iteration:    30/12000 Tran_loss: 5.790\n",
      "Epoch:  12/200 Iteration:    60/12000 Tran_loss: 5.659\n",
      "Epoch:  13/200 Iteration:    30/12000 Tran_loss: 5.739\n",
      "Epoch:  13/200 Iteration:    60/12000 Tran_loss: 5.604\n",
      "Epoch:  14/200 Iteration:    30/12000 Tran_loss: 5.679\n",
      "Epoch:  14/200 Iteration:    60/12000 Tran_loss: 5.531\n",
      "Epoch:  15/200 Iteration:    30/12000 Tran_loss: 5.608\n",
      "Epoch:  15/200 Iteration:    60/12000 Tran_loss: 5.481\n",
      "Epoch:  16/200 Iteration:    30/12000 Tran_loss: 5.550\n",
      "Epoch:  16/200 Iteration:    60/12000 Tran_loss: 5.421\n",
      "Epoch:  17/200 Iteration:    30/12000 Tran_loss: 5.476\n",
      "Epoch:  17/200 Iteration:    60/12000 Tran_loss: 5.345\n",
      "Epoch:  18/200 Iteration:    30/12000 Tran_loss: 5.396\n",
      "Epoch:  18/200 Iteration:    60/12000 Tran_loss: 5.278\n",
      "Epoch:  19/200 Iteration:    30/12000 Tran_loss: 5.326\n",
      "Epoch:  19/200 Iteration:    60/12000 Tran_loss: 5.211\n",
      "Epoch:  20/200 Iteration:    30/12000 Tran_loss: 5.237\n",
      "Epoch:  20/200 Iteration:    60/12000 Tran_loss: 5.123\n",
      "Epoch:  21/200 Iteration:    30/12000 Tran_loss: 5.132\n",
      "Epoch:  21/200 Iteration:    60/12000 Tran_loss: 5.015\n",
      "Epoch:  22/200 Iteration:    30/12000 Tran_loss: 5.049\n",
      "Epoch:  22/200 Iteration:    60/12000 Tran_loss: 4.933\n",
      "Epoch:  23/200 Iteration:    30/12000 Tran_loss: 4.958\n",
      "Epoch:  23/200 Iteration:    60/12000 Tran_loss: 4.830\n",
      "Epoch:  24/200 Iteration:    30/12000 Tran_loss: 4.861\n",
      "Epoch:  24/200 Iteration:    60/12000 Tran_loss: 4.752\n",
      "Epoch:  25/200 Iteration:    30/12000 Tran_loss: 4.783\n",
      "Epoch:  25/200 Iteration:    60/12000 Tran_loss: 4.689\n",
      "Epoch:  26/200 Iteration:    30/12000 Tran_loss: 4.727\n",
      "Epoch:  26/200 Iteration:    60/12000 Tran_loss: 4.635\n",
      "Epoch:  27/200 Iteration:    30/12000 Tran_loss: 4.656\n",
      "Epoch:  27/200 Iteration:    60/12000 Tran_loss: 4.570\n",
      "Epoch:  28/200 Iteration:    30/12000 Tran_loss: 4.593\n",
      "Epoch:  28/200 Iteration:    60/12000 Tran_loss: 4.514\n",
      "Epoch:  29/200 Iteration:    30/12000 Tran_loss: 4.542\n",
      "Epoch:  29/200 Iteration:    60/12000 Tran_loss: 4.461\n",
      "Epoch:  30/200 Iteration:    30/12000 Tran_loss: 4.482\n",
      "Epoch:  30/200 Iteration:    60/12000 Tran_loss: 4.420\n",
      "Epoch:  31/200 Iteration:    30/12000 Tran_loss: 4.429\n",
      "Epoch:  31/200 Iteration:    60/12000 Tran_loss: 4.371\n",
      "Epoch:  32/200 Iteration:    30/12000 Tran_loss: 4.369\n",
      "Epoch:  32/200 Iteration:    60/12000 Tran_loss: 4.359\n",
      "Epoch:  33/200 Iteration:    30/12000 Tran_loss: 4.340\n",
      "Epoch:  33/200 Iteration:    60/12000 Tran_loss: 4.314\n",
      "Epoch:  34/200 Iteration:    30/12000 Tran_loss: 4.249\n",
      "Epoch:  34/200 Iteration:    60/12000 Tran_loss: 4.233\n",
      "Epoch:  35/200 Iteration:    30/12000 Tran_loss: 4.212\n",
      "Epoch:  35/200 Iteration:    60/12000 Tran_loss: 4.187\n",
      "Epoch:  36/200 Iteration:    30/12000 Tran_loss: 4.160\n",
      "Epoch:  36/200 Iteration:    60/12000 Tran_loss: 4.145\n",
      "Epoch:  37/200 Iteration:    30/12000 Tran_loss: 4.114\n",
      "Epoch:  37/200 Iteration:    60/12000 Tran_loss: 4.101\n",
      "Epoch:  38/200 Iteration:    30/12000 Tran_loss: 4.037\n",
      "Epoch:  38/200 Iteration:    60/12000 Tran_loss: 4.051\n",
      "Epoch:  39/200 Iteration:    30/12000 Tran_loss: 3.981\n",
      "Epoch:  39/200 Iteration:    60/12000 Tran_loss: 4.019\n",
      "Epoch:  40/200 Iteration:    30/12000 Tran_loss: 3.937\n",
      "Epoch:  40/200 Iteration:    60/12000 Tran_loss: 3.958\n",
      "Epoch:  41/200 Iteration:    30/12000 Tran_loss: 3.881\n",
      "Epoch:  41/200 Iteration:    60/12000 Tran_loss: 3.933\n",
      "Epoch:  42/200 Iteration:    30/12000 Tran_loss: 3.822\n",
      "Epoch:  42/200 Iteration:    60/12000 Tran_loss: 3.923\n",
      "Epoch:  43/200 Iteration:    30/12000 Tran_loss: 3.786\n",
      "Epoch:  43/200 Iteration:    60/12000 Tran_loss: 3.886\n",
      "Epoch:  44/200 Iteration:    30/12000 Tran_loss: 3.741\n",
      "Epoch:  44/200 Iteration:    60/12000 Tran_loss: 3.790\n",
      "Epoch:  45/200 Iteration:    30/12000 Tran_loss: 3.687\n",
      "Epoch:  45/200 Iteration:    60/12000 Tran_loss: 3.750\n",
      "Epoch:  46/200 Iteration:    30/12000 Tran_loss: 3.617\n",
      "Epoch:  46/200 Iteration:    60/12000 Tran_loss: 3.671\n",
      "Epoch:  47/200 Iteration:    30/12000 Tran_loss: 3.540\n",
      "Epoch:  47/200 Iteration:    60/12000 Tran_loss: 3.609\n",
      "Epoch:  48/200 Iteration:    30/12000 Tran_loss: 3.483\n",
      "Epoch:  48/200 Iteration:    60/12000 Tran_loss: 3.564\n",
      "Epoch:  49/200 Iteration:    30/12000 Tran_loss: 3.427\n",
      "Epoch:  49/200 Iteration:    60/12000 Tran_loss: 3.547\n",
      "Epoch:  50/200 Iteration:    30/12000 Tran_loss: 3.402\n",
      "Epoch:  50/200 Iteration:    60/12000 Tran_loss: 3.471\n",
      "Epoch:  51/200 Iteration:    30/12000 Tran_loss: 3.343\n",
      "Epoch:  51/200 Iteration:    60/12000 Tran_loss: 3.424\n",
      "Epoch:  52/200 Iteration:    30/12000 Tran_loss: 3.300\n",
      "Epoch:  52/200 Iteration:    60/12000 Tran_loss: 3.381\n",
      "Epoch:  53/200 Iteration:    30/12000 Tran_loss: 3.209\n",
      "Epoch:  53/200 Iteration:    60/12000 Tran_loss: 3.275\n",
      "Epoch:  54/200 Iteration:    30/12000 Tran_loss: 3.138\n",
      "Epoch:  54/200 Iteration:    60/12000 Tran_loss: 3.202\n",
      "Epoch:  55/200 Iteration:    30/12000 Tran_loss: 3.058\n",
      "Epoch:  55/200 Iteration:    60/12000 Tran_loss: 3.152\n",
      "Epoch:  56/200 Iteration:    30/12000 Tran_loss: 3.012\n",
      "Epoch:  56/200 Iteration:    60/12000 Tran_loss: 3.097\n",
      "Epoch:  57/200 Iteration:    30/12000 Tran_loss: 2.930\n",
      "Epoch:  57/200 Iteration:    60/12000 Tran_loss: 3.069\n",
      "Epoch:  58/200 Iteration:    30/12000 Tran_loss: 2.893\n",
      "Epoch:  58/200 Iteration:    60/12000 Tran_loss: 2.995\n",
      "Epoch:  59/200 Iteration:    30/12000 Tran_loss: 2.836\n",
      "Epoch:  59/200 Iteration:    60/12000 Tran_loss: 2.980\n",
      "Epoch:  60/200 Iteration:    30/12000 Tran_loss: 2.820\n",
      "Epoch:  60/200 Iteration:    60/12000 Tran_loss: 2.883\n",
      "Epoch:  61/200 Iteration:    30/12000 Tran_loss: 2.781\n",
      "Epoch:  61/200 Iteration:    60/12000 Tran_loss: 2.817\n",
      "Epoch:  62/200 Iteration:    30/12000 Tran_loss: 2.703\n",
      "Epoch:  62/200 Iteration:    60/12000 Tran_loss: 2.772\n",
      "Epoch:  63/200 Iteration:    30/12000 Tran_loss: 2.627\n",
      "Epoch:  63/200 Iteration:    60/12000 Tran_loss: 2.698\n",
      "Epoch:  64/200 Iteration:    30/12000 Tran_loss: 2.553\n",
      "Epoch:  64/200 Iteration:    60/12000 Tran_loss: 2.653\n",
      "Epoch:  65/200 Iteration:    30/12000 Tran_loss: 2.486\n",
      "Epoch:  65/200 Iteration:    60/12000 Tran_loss: 2.593\n",
      "Epoch:  66/200 Iteration:    30/12000 Tran_loss: 2.415\n",
      "Epoch:  66/200 Iteration:    60/12000 Tran_loss: 2.531\n",
      "Epoch:  67/200 Iteration:    30/12000 Tran_loss: 2.373\n",
      "Epoch:  67/200 Iteration:    60/12000 Tran_loss: 2.473\n",
      "Epoch:  68/200 Iteration:    30/12000 Tran_loss: 2.315\n",
      "Epoch:  68/200 Iteration:    60/12000 Tran_loss: 2.428\n",
      "Epoch:  69/200 Iteration:    30/12000 Tran_loss: 2.248\n",
      "Epoch:  69/200 Iteration:    60/12000 Tran_loss: 2.381\n",
      "Epoch:  70/200 Iteration:    30/12000 Tran_loss: 2.225\n",
      "Epoch:  70/200 Iteration:    60/12000 Tran_loss: 2.336\n",
      "Epoch:  71/200 Iteration:    30/12000 Tran_loss: 2.186\n",
      "Epoch:  71/200 Iteration:    60/12000 Tran_loss: 2.333\n",
      "Epoch:  72/200 Iteration:    30/12000 Tran_loss: 2.152\n",
      "Epoch:  72/200 Iteration:    60/12000 Tran_loss: 2.248\n",
      "Epoch:  73/200 Iteration:    30/12000 Tran_loss: 2.143\n",
      "Epoch:  73/200 Iteration:    60/12000 Tran_loss: 2.179\n",
      "Epoch:  74/200 Iteration:    30/12000 Tran_loss: 2.068\n",
      "Epoch:  74/200 Iteration:    60/12000 Tran_loss: 2.143\n",
      "Epoch:  75/200 Iteration:    30/12000 Tran_loss: 1.991\n"
     ]
    },
    {
     "name": "stdout",
     "output_type": "stream",
     "text": [
      "Epoch:  75/200 Iteration:    60/12000 Tran_loss: 2.095\n",
      "Epoch:  76/200 Iteration:    30/12000 Tran_loss: 1.949\n",
      "Epoch:  76/200 Iteration:    60/12000 Tran_loss: 2.069\n",
      "Epoch:  77/200 Iteration:    30/12000 Tran_loss: 1.927\n",
      "Epoch:  77/200 Iteration:    60/12000 Tran_loss: 2.010\n",
      "Epoch:  78/200 Iteration:    30/12000 Tran_loss: 1.896\n",
      "Epoch:  78/200 Iteration:    60/12000 Tran_loss: 1.958\n",
      "Epoch:  79/200 Iteration:    30/12000 Tran_loss: 1.818\n",
      "Epoch:  79/200 Iteration:    60/12000 Tran_loss: 1.922\n",
      "Epoch:  80/200 Iteration:    30/12000 Tran_loss: 1.776\n",
      "Epoch:  80/200 Iteration:    60/12000 Tran_loss: 1.880\n",
      "Epoch:  81/200 Iteration:    30/12000 Tran_loss: 1.726\n",
      "Epoch:  81/200 Iteration:    60/12000 Tran_loss: 1.864\n",
      "Epoch:  82/200 Iteration:    30/12000 Tran_loss: 1.730\n",
      "Epoch:  82/200 Iteration:    60/12000 Tran_loss: 1.833\n",
      "Epoch:  83/200 Iteration:    30/12000 Tran_loss: 1.700\n",
      "Epoch:  83/200 Iteration:    60/12000 Tran_loss: 1.814\n",
      "Epoch:  84/200 Iteration:    30/12000 Tran_loss: 1.666\n",
      "Epoch:  84/200 Iteration:    60/12000 Tran_loss: 1.805\n",
      "Epoch:  85/200 Iteration:    30/12000 Tran_loss: 1.608\n",
      "Epoch:  85/200 Iteration:    60/12000 Tran_loss: 1.763\n",
      "Epoch:  86/200 Iteration:    30/12000 Tran_loss: 1.621\n",
      "Epoch:  86/200 Iteration:    60/12000 Tran_loss: 1.774\n",
      "Epoch:  87/200 Iteration:    30/12000 Tran_loss: 1.598\n",
      "Epoch:  87/200 Iteration:    60/12000 Tran_loss: 1.783\n",
      "Epoch:  88/200 Iteration:    30/12000 Tran_loss: 1.562\n",
      "Epoch:  88/200 Iteration:    60/12000 Tran_loss: 1.730\n",
      "Epoch:  89/200 Iteration:    30/12000 Tran_loss: 1.555\n",
      "Epoch:  89/200 Iteration:    60/12000 Tran_loss: 1.656\n",
      "Epoch:  90/200 Iteration:    30/12000 Tran_loss: 1.497\n",
      "Epoch:  90/200 Iteration:    60/12000 Tran_loss: 1.612\n",
      "Epoch:  91/200 Iteration:    30/12000 Tran_loss: 1.433\n",
      "Epoch:  91/200 Iteration:    60/12000 Tran_loss: 1.540\n",
      "Epoch:  92/200 Iteration:    30/12000 Tran_loss: 1.391\n",
      "Epoch:  92/200 Iteration:    60/12000 Tran_loss: 1.493\n",
      "Epoch:  93/200 Iteration:    30/12000 Tran_loss: 1.343\n",
      "Epoch:  93/200 Iteration:    60/12000 Tran_loss: 1.450\n",
      "Epoch:  94/200 Iteration:    30/12000 Tran_loss: 1.314\n",
      "Epoch:  94/200 Iteration:    60/12000 Tran_loss: 1.435\n",
      "Epoch:  95/200 Iteration:    30/12000 Tran_loss: 1.293\n",
      "Epoch:  95/200 Iteration:    60/12000 Tran_loss: 1.381\n",
      "Epoch:  96/200 Iteration:    30/12000 Tran_loss: 1.244\n",
      "Epoch:  96/200 Iteration:    60/12000 Tran_loss: 1.333\n",
      "Epoch:  97/200 Iteration:    30/12000 Tran_loss: 1.193\n",
      "Epoch:  97/200 Iteration:    60/12000 Tran_loss: 1.306\n",
      "Epoch:  98/200 Iteration:    30/12000 Tran_loss: 1.162\n",
      "Epoch:  98/200 Iteration:    60/12000 Tran_loss: 1.268\n",
      "Epoch:  99/200 Iteration:    30/12000 Tran_loss: 1.150\n",
      "Epoch:  99/200 Iteration:    60/12000 Tran_loss: 1.211\n",
      "Epoch: 100/200 Iteration:    30/12000 Tran_loss: 1.148\n",
      "Epoch: 100/200 Iteration:    60/12000 Tran_loss: 1.162\n",
      "Epoch: 101/200 Iteration:    30/12000 Tran_loss: 1.122\n",
      "Epoch: 101/200 Iteration:    60/12000 Tran_loss: 1.167\n",
      "Epoch: 102/200 Iteration:    30/12000 Tran_loss: 1.098\n",
      "Epoch: 102/200 Iteration:    60/12000 Tran_loss: 1.156\n",
      "Epoch: 103/200 Iteration:    30/12000 Tran_loss: 1.060\n",
      "Epoch: 103/200 Iteration:    60/12000 Tran_loss: 1.113\n",
      "Epoch: 104/200 Iteration:    30/12000 Tran_loss: 1.040\n",
      "Epoch: 104/200 Iteration:    60/12000 Tran_loss: 1.104\n",
      "Epoch: 105/200 Iteration:    30/12000 Tran_loss: 1.026\n",
      "Epoch: 105/200 Iteration:    60/12000 Tran_loss: 1.047\n",
      "Epoch: 106/200 Iteration:    30/12000 Tran_loss: 1.016\n",
      "Epoch: 106/200 Iteration:    60/12000 Tran_loss: 1.024\n",
      "Epoch: 107/200 Iteration:    30/12000 Tran_loss: 0.982\n",
      "Epoch: 107/200 Iteration:    60/12000 Tran_loss: 0.983\n",
      "Epoch: 108/200 Iteration:    30/12000 Tran_loss: 0.938\n",
      "Epoch: 108/200 Iteration:    60/12000 Tran_loss: 0.994\n",
      "Epoch: 109/200 Iteration:    30/12000 Tran_loss: 0.932\n",
      "Epoch: 109/200 Iteration:    60/12000 Tran_loss: 0.965\n",
      "Epoch: 110/200 Iteration:    30/12000 Tran_loss: 0.927\n",
      "Epoch: 110/200 Iteration:    60/12000 Tran_loss: 0.933\n",
      "Epoch: 111/200 Iteration:    30/12000 Tran_loss: 0.918\n",
      "Epoch: 111/200 Iteration:    60/12000 Tran_loss: 0.897\n",
      "Epoch: 112/200 Iteration:    30/12000 Tran_loss: 0.856\n",
      "Epoch: 112/200 Iteration:    60/12000 Tran_loss: 0.865\n",
      "Epoch: 113/200 Iteration:    30/12000 Tran_loss: 0.827\n",
      "Epoch: 113/200 Iteration:    60/12000 Tran_loss: 0.821\n",
      "Epoch: 114/200 Iteration:    30/12000 Tran_loss: 0.775\n",
      "Epoch: 114/200 Iteration:    60/12000 Tran_loss: 0.789\n",
      "Epoch: 115/200 Iteration:    30/12000 Tran_loss: 0.725\n",
      "Epoch: 115/200 Iteration:    60/12000 Tran_loss: 0.751\n",
      "Epoch: 116/200 Iteration:    30/12000 Tran_loss: 0.696\n",
      "Epoch: 116/200 Iteration:    60/12000 Tran_loss: 0.713\n",
      "Epoch: 117/200 Iteration:    30/12000 Tran_loss: 0.677\n",
      "Epoch: 117/200 Iteration:    60/12000 Tran_loss: 0.702\n",
      "Epoch: 118/200 Iteration:    30/12000 Tran_loss: 0.644\n",
      "Epoch: 118/200 Iteration:    60/12000 Tran_loss: 0.692\n",
      "Epoch: 119/200 Iteration:    30/12000 Tran_loss: 0.614\n",
      "Epoch: 119/200 Iteration:    60/12000 Tran_loss: 0.669\n",
      "Epoch: 120/200 Iteration:    30/12000 Tran_loss: 0.608\n",
      "Epoch: 120/200 Iteration:    60/12000 Tran_loss: 0.618\n",
      "Epoch: 121/200 Iteration:    30/12000 Tran_loss: 0.630\n",
      "Epoch: 121/200 Iteration:    60/12000 Tran_loss: 0.602\n",
      "Epoch: 122/200 Iteration:    30/12000 Tran_loss: 0.602\n",
      "Epoch: 122/200 Iteration:    60/12000 Tran_loss: 0.583\n",
      "Epoch: 123/200 Iteration:    30/12000 Tran_loss: 0.545\n",
      "Epoch: 123/200 Iteration:    60/12000 Tran_loss: 0.599\n",
      "Epoch: 124/200 Iteration:    30/12000 Tran_loss: 0.524\n",
      "Epoch: 124/200 Iteration:    60/12000 Tran_loss: 0.562\n",
      "Epoch: 125/200 Iteration:    30/12000 Tran_loss: 0.515\n",
      "Epoch: 125/200 Iteration:    60/12000 Tran_loss: 0.554\n",
      "Epoch: 126/200 Iteration:    30/12000 Tran_loss: 0.502\n",
      "Epoch: 126/200 Iteration:    60/12000 Tran_loss: 0.536\n",
      "Epoch: 127/200 Iteration:    30/12000 Tran_loss: 0.486\n",
      "Epoch: 127/200 Iteration:    60/12000 Tran_loss: 0.537\n",
      "Epoch: 128/200 Iteration:    30/12000 Tran_loss: 0.470\n",
      "Epoch: 128/200 Iteration:    60/12000 Tran_loss: 0.547\n",
      "Epoch: 129/200 Iteration:    30/12000 Tran_loss: 0.451\n",
      "Epoch: 129/200 Iteration:    60/12000 Tran_loss: 0.495\n",
      "Epoch: 130/200 Iteration:    30/12000 Tran_loss: 0.468\n",
      "Epoch: 130/200 Iteration:    60/12000 Tran_loss: 0.466\n",
      "Epoch: 131/200 Iteration:    30/12000 Tran_loss: 0.458\n",
      "Epoch: 131/200 Iteration:    60/12000 Tran_loss: 0.459\n",
      "Epoch: 132/200 Iteration:    30/12000 Tran_loss: 0.416\n",
      "Epoch: 132/200 Iteration:    60/12000 Tran_loss: 0.436\n",
      "Epoch: 133/200 Iteration:    30/12000 Tran_loss: 0.376\n",
      "Epoch: 133/200 Iteration:    60/12000 Tran_loss: 0.427\n",
      "Epoch: 134/200 Iteration:    30/12000 Tran_loss: 0.362\n",
      "Epoch: 134/200 Iteration:    60/12000 Tran_loss: 0.421\n",
      "Epoch: 135/200 Iteration:    30/12000 Tran_loss: 0.379\n",
      "Epoch: 135/200 Iteration:    60/12000 Tran_loss: 0.399\n",
      "Epoch: 136/200 Iteration:    30/12000 Tran_loss: 0.348\n",
      "Epoch: 136/200 Iteration:    60/12000 Tran_loss: 0.378\n",
      "Epoch: 137/200 Iteration:    30/12000 Tran_loss: 0.317\n",
      "Epoch: 137/200 Iteration:    60/12000 Tran_loss: 0.382\n",
      "Epoch: 138/200 Iteration:    30/12000 Tran_loss: 0.308\n",
      "Epoch: 138/200 Iteration:    60/12000 Tran_loss: 0.355\n",
      "Epoch: 139/200 Iteration:    30/12000 Tran_loss: 0.302\n",
      "Epoch: 139/200 Iteration:    60/12000 Tran_loss: 0.336\n",
      "Epoch: 140/200 Iteration:    30/12000 Tran_loss: 0.332\n",
      "Epoch: 140/200 Iteration:    60/12000 Tran_loss: 0.321\n",
      "Epoch: 141/200 Iteration:    30/12000 Tran_loss: 0.317\n",
      "Epoch: 141/200 Iteration:    60/12000 Tran_loss: 0.322\n",
      "Epoch: 142/200 Iteration:    30/12000 Tran_loss: 0.292\n",
      "Epoch: 142/200 Iteration:    60/12000 Tran_loss: 0.330\n",
      "Epoch: 143/200 Iteration:    30/12000 Tran_loss: 0.285\n",
      "Epoch: 143/200 Iteration:    60/12000 Tran_loss: 0.285\n",
      "Epoch: 144/200 Iteration:    30/12000 Tran_loss: 0.288\n",
      "Epoch: 144/200 Iteration:    60/12000 Tran_loss: 0.268\n",
      "Epoch: 145/200 Iteration:    30/12000 Tran_loss: 0.252\n",
      "Epoch: 145/200 Iteration:    60/12000 Tran_loss: 0.260\n",
      "Epoch: 146/200 Iteration:    30/12000 Tran_loss: 0.233\n",
      "Epoch: 146/200 Iteration:    60/12000 Tran_loss: 0.252\n",
      "Epoch: 147/200 Iteration:    30/12000 Tran_loss: 0.226\n",
      "Epoch: 147/200 Iteration:    60/12000 Tran_loss: 0.275\n",
      "Epoch: 148/200 Iteration:    30/12000 Tran_loss: 0.231\n",
      "Epoch: 148/200 Iteration:    60/12000 Tran_loss: 0.265\n",
      "Epoch: 149/200 Iteration:    30/12000 Tran_loss: 0.210\n",
      "Epoch: 149/200 Iteration:    60/12000 Tran_loss: 0.241\n"
     ]
    },
    {
     "name": "stdout",
     "output_type": "stream",
     "text": [
      "Epoch: 150/200 Iteration:    30/12000 Tran_loss: 0.204\n",
      "Epoch: 150/200 Iteration:    60/12000 Tran_loss: 0.247\n",
      "Epoch: 151/200 Iteration:    30/12000 Tran_loss: 0.197\n",
      "Epoch: 151/200 Iteration:    60/12000 Tran_loss: 0.229\n",
      "Epoch: 152/200 Iteration:    30/12000 Tran_loss: 0.170\n",
      "Epoch: 152/200 Iteration:    60/12000 Tran_loss: 0.197\n",
      "Epoch: 153/200 Iteration:    30/12000 Tran_loss: 0.201\n",
      "Epoch: 153/200 Iteration:    60/12000 Tran_loss: 0.183\n",
      "Epoch: 154/200 Iteration:    30/12000 Tran_loss: 0.186\n",
      "Epoch: 154/200 Iteration:    60/12000 Tran_loss: 0.179\n",
      "Epoch: 155/200 Iteration:    30/12000 Tran_loss: 0.159\n",
      "Epoch: 155/200 Iteration:    60/12000 Tran_loss: 0.192\n",
      "Epoch: 156/200 Iteration:    30/12000 Tran_loss: 0.146\n",
      "Epoch: 156/200 Iteration:    60/12000 Tran_loss: 0.175\n",
      "Epoch: 157/200 Iteration:    30/12000 Tran_loss: 0.148\n",
      "Epoch: 157/200 Iteration:    60/12000 Tran_loss: 0.157\n",
      "Epoch: 158/200 Iteration:    30/12000 Tran_loss: 0.140\n",
      "Epoch: 158/200 Iteration:    60/12000 Tran_loss: 0.149\n",
      "Epoch: 159/200 Iteration:    30/12000 Tran_loss: 0.131\n",
      "Epoch: 159/200 Iteration:    60/12000 Tran_loss: 0.138\n",
      "Epoch: 160/200 Iteration:    30/12000 Tran_loss: 0.123\n",
      "Epoch: 160/200 Iteration:    60/12000 Tran_loss: 0.131\n",
      "Epoch: 161/200 Iteration:    30/12000 Tran_loss: 0.117\n",
      "Epoch: 161/200 Iteration:    60/12000 Tran_loss: 0.128\n",
      "Epoch: 162/200 Iteration:    30/12000 Tran_loss: 0.108\n",
      "Epoch: 162/200 Iteration:    60/12000 Tran_loss: 0.123\n",
      "Epoch: 163/200 Iteration:    30/12000 Tran_loss: 0.103\n",
      "Epoch: 163/200 Iteration:    60/12000 Tran_loss: 0.123\n",
      "Epoch: 164/200 Iteration:    30/12000 Tran_loss: 0.097\n",
      "Epoch: 164/200 Iteration:    60/12000 Tran_loss: 0.122\n",
      "Epoch: 165/200 Iteration:    30/12000 Tran_loss: 0.100\n",
      "Epoch: 165/200 Iteration:    60/12000 Tran_loss: 0.113\n",
      "Epoch: 166/200 Iteration:    30/12000 Tran_loss: 0.094\n",
      "Epoch: 166/200 Iteration:    60/12000 Tran_loss: 0.103\n",
      "Epoch: 167/200 Iteration:    30/12000 Tran_loss: 0.096\n",
      "Epoch: 167/200 Iteration:    60/12000 Tran_loss: 0.099\n",
      "Epoch: 168/200 Iteration:    30/12000 Tran_loss: 0.095\n",
      "Epoch: 168/200 Iteration:    60/12000 Tran_loss: 0.091\n",
      "Epoch: 169/200 Iteration:    30/12000 Tran_loss: 0.083\n",
      "Epoch: 169/200 Iteration:    60/12000 Tran_loss: 0.091\n",
      "Epoch: 170/200 Iteration:    30/12000 Tran_loss: 0.078\n",
      "Epoch: 170/200 Iteration:    60/12000 Tran_loss: 0.093\n",
      "Epoch: 171/200 Iteration:    30/12000 Tran_loss: 0.075\n",
      "Epoch: 171/200 Iteration:    60/12000 Tran_loss: 0.087\n",
      "Epoch: 172/200 Iteration:    30/12000 Tran_loss: 0.075\n",
      "Epoch: 172/200 Iteration:    60/12000 Tran_loss: 0.082\n",
      "Epoch: 173/200 Iteration:    30/12000 Tran_loss: 0.072\n",
      "Epoch: 173/200 Iteration:    60/12000 Tran_loss: 0.074\n",
      "Epoch: 174/200 Iteration:    30/12000 Tran_loss: 0.064\n",
      "Epoch: 174/200 Iteration:    60/12000 Tran_loss: 0.079\n",
      "Epoch: 175/200 Iteration:    30/12000 Tran_loss: 0.064\n",
      "Epoch: 175/200 Iteration:    60/12000 Tran_loss: 0.075\n",
      "Epoch: 176/200 Iteration:    30/12000 Tran_loss: 0.061\n",
      "Epoch: 176/200 Iteration:    60/12000 Tran_loss: 0.071\n",
      "Epoch: 177/200 Iteration:    30/12000 Tran_loss: 0.060\n",
      "Epoch: 177/200 Iteration:    60/12000 Tran_loss: 0.066\n",
      "Epoch: 178/200 Iteration:    30/12000 Tran_loss: 0.062\n",
      "Epoch: 178/200 Iteration:    60/12000 Tran_loss: 0.062\n",
      "Epoch: 179/200 Iteration:    30/12000 Tran_loss: 0.059\n",
      "Epoch: 179/200 Iteration:    60/12000 Tran_loss: 0.059\n",
      "Epoch: 180/200 Iteration:    30/12000 Tran_loss: 0.056\n",
      "Epoch: 180/200 Iteration:    60/12000 Tran_loss: 0.055\n",
      "Epoch: 181/200 Iteration:    30/12000 Tran_loss: 0.056\n",
      "Epoch: 181/200 Iteration:    60/12000 Tran_loss: 0.056\n",
      "Epoch: 182/200 Iteration:    30/12000 Tran_loss: 0.052\n",
      "Epoch: 182/200 Iteration:    60/12000 Tran_loss: 0.056\n",
      "Epoch: 183/200 Iteration:    30/12000 Tran_loss: 0.048\n",
      "Epoch: 183/200 Iteration:    60/12000 Tran_loss: 0.050\n",
      "Epoch: 184/200 Iteration:    30/12000 Tran_loss: 0.043\n",
      "Epoch: 184/200 Iteration:    60/12000 Tran_loss: 0.047\n",
      "Epoch: 185/200 Iteration:    30/12000 Tran_loss: 0.042\n",
      "Epoch: 185/200 Iteration:    60/12000 Tran_loss: 0.045\n",
      "Epoch: 186/200 Iteration:    30/12000 Tran_loss: 0.040\n",
      "Epoch: 186/200 Iteration:    60/12000 Tran_loss: 0.043\n",
      "Epoch: 187/200 Iteration:    30/12000 Tran_loss: 0.039\n",
      "Epoch: 187/200 Iteration:    60/12000 Tran_loss: 0.044\n",
      "Epoch: 188/200 Iteration:    30/12000 Tran_loss: 0.039\n",
      "Epoch: 188/200 Iteration:    60/12000 Tran_loss: 0.042\n",
      "Epoch: 189/200 Iteration:    30/12000 Tran_loss: 0.041\n",
      "Epoch: 189/200 Iteration:    60/12000 Tran_loss: 0.040\n",
      "Epoch: 190/200 Iteration:    30/12000 Tran_loss: 0.046\n",
      "Epoch: 190/200 Iteration:    60/12000 Tran_loss: 0.037\n",
      "Epoch: 191/200 Iteration:    30/12000 Tran_loss: 0.037\n",
      "Epoch: 191/200 Iteration:    60/12000 Tran_loss: 0.036\n",
      "Epoch: 192/200 Iteration:    30/12000 Tran_loss: 0.037\n",
      "Epoch: 192/200 Iteration:    60/12000 Tran_loss: 0.035\n",
      "Epoch: 193/200 Iteration:    30/12000 Tran_loss: 0.036\n",
      "Epoch: 193/200 Iteration:    60/12000 Tran_loss: 0.035\n",
      "Epoch: 194/200 Iteration:    30/12000 Tran_loss: 0.033\n",
      "Epoch: 194/200 Iteration:    60/12000 Tran_loss: 0.035\n",
      "Epoch: 195/200 Iteration:    30/12000 Tran_loss: 0.032\n",
      "Epoch: 195/200 Iteration:    60/12000 Tran_loss: 0.035\n",
      "Epoch: 196/200 Iteration:    30/12000 Tran_loss: 0.030\n",
      "Epoch: 196/200 Iteration:    60/12000 Tran_loss: 0.034\n",
      "Epoch: 197/200 Iteration:    30/12000 Tran_loss: 0.029\n",
      "Epoch: 197/200 Iteration:    60/12000 Tran_loss: 0.032\n",
      "Epoch: 198/200 Iteration:    30/12000 Tran_loss: 0.029\n",
      "Epoch: 198/200 Iteration:    60/12000 Tran_loss: 0.030\n",
      "Epoch: 199/200 Iteration:    30/12000 Tran_loss: 0.028\n",
      "Epoch: 199/200 Iteration:    60/12000 Tran_loss: 0.029\n",
      "Epoch: 200/200 Iteration:    30/12000 Tran_loss: 0.027\n",
      "Epoch: 200/200 Iteration:    60/12000 Tran_loss: 0.028\n",
      "Model Trained and Saved\n"
     ]
    }
   ],
   "source": [
    "\"\"\"\n",
    "DON'T MODIFY ANYTHING IN THIS CELL\n",
    "\"\"\"\n",
    "batches = get_batches(int_text, batch_size, seq_length)\n",
    "\n",
    "session_cfg = tf.ConfigProto()\n",
    "session_cfg.gpu_options.allow_growth = True\n",
    "with tf.Session(graph=train_graph, config=session_cfg) as sess:\n",
    "    sess.run(tf.global_variables_initializer())\n",
    "    iteration = 1\n",
    "    for epoch_i in range(num_epochs):\n",
    "        state = sess.run(initial_state, {input_text: batches[0][0]})\n",
    "        for batch_i, (x, y) in enumerate(batches):\n",
    "            feed = {\n",
    "                input_text: x,\n",
    "                targets: y,\n",
    "                initial_state: state,\n",
    "                lr: learning_rate}\n",
    "            train_loss, state, _ = sess.run([cost, final_state, train_op], feed)\n",
    "\n",
    "            # Show every <show_every_n_batches> batches\n",
    "#             if (epoch_i * len(batches) + batch_i) % show_every_n_batches == 0:\n",
    "#                 print('Epoch {:>3} Batch {:>4}/{}   train_loss = {:.3f}'.format(\n",
    "#                     epoch_i,\n",
    "#                     batch_i,\n",
    "#                     len(batches),\n",
    "#                     train_loss))\n",
    "            if iteration % show_every_n_batches == 0:\n",
    "                print('Epoch: {:>3}/{}'.format(epoch_i+1, num_epochs),\n",
    "                      'Iteration: {:>5}/{}'.format(iteration, batches.shape[0] * num_epochs),\n",
    "                      'Tran_loss: {:.3f}'.format(train_loss))\n",
    "            iteration += 1\n",
    "\n",
    "    # Save Model\n",
    "    saver = tf.train.Saver()\n",
    "    saver.save(sess, save_dir)\n",
    "    print('Model Trained and Saved')"
   ]
  },
  {
   "cell_type": "markdown",
   "metadata": {},
   "source": [
    "## 储存参数\n",
    "储存 `seq_length` 和 `save_dir` 来生成新的电视剧剧本。"
   ]
  },
  {
   "cell_type": "code",
   "execution_count": 20,
   "metadata": {
    "collapsed": true
   },
   "outputs": [],
   "source": [
    "\"\"\"\n",
    "DON'T MODIFY ANYTHING IN THIS CELL\n",
    "\"\"\"\n",
    "# Save parameters for checkpoint\n",
    "helper.save_params((seq_length, save_dir))"
   ]
  },
  {
   "cell_type": "markdown",
   "metadata": {},
   "source": [
    "# 检查点"
   ]
  },
  {
   "cell_type": "code",
   "execution_count": 21,
   "metadata": {
    "collapsed": true
   },
   "outputs": [],
   "source": [
    "\"\"\"\n",
    "DON'T MODIFY ANYTHING IN THIS CELL\n",
    "\"\"\"\n",
    "import tensorflow as tf\n",
    "import numpy as np\n",
    "import helper\n",
    "import problem_unittests as tests\n",
    "\n",
    "_, vocab_to_int, int_to_vocab, token_dict = helper.load_preprocess()\n",
    "seq_length, load_dir = helper.load_params()"
   ]
  },
  {
   "cell_type": "markdown",
   "metadata": {},
   "source": [
    "## 实现生成函数\n",
    "### 获取 Tensors\n",
    "使用 [`get_tensor_by_name()`](https://www.tensorflow.org/api_docs/python/tf/Graph#get_tensor_by_name)函数从 `loaded_graph` 中获取 tensor。  使用下面的名称获取 tensor：\n",
    "\n",
    "- \"input:0\"\n",
    "- \"initial_state:0\"\n",
    "- \"final_state:0\"\n",
    "- \"probs:0\"\n",
    "\n",
    "返回下列元组中的 tensor `(InputTensor, InitialStateTensor, FinalStateTensor, ProbsTensor)`"
   ]
  },
  {
   "cell_type": "code",
   "execution_count": 23,
   "metadata": {},
   "outputs": [
    {
     "name": "stdout",
     "output_type": "stream",
     "text": [
      "Tests Passed\n"
     ]
    }
   ],
   "source": [
    "def get_tensors(loaded_graph):\n",
    "    \"\"\"\n",
    "    Get input, initial state, final state, and probabilities tensor from <loaded_graph>\n",
    "    :param loaded_graph: TensorFlow graph loaded from file\n",
    "    :return: Tuple (InputTensor, InitialStateTensor, FinalStateTensor, ProbsTensor)\n",
    "    \"\"\"\n",
    "    # TODO: Implement Function\n",
    "    input_tensor = loaded_graph.get_tensor_by_name('input:0')\n",
    "    initial_state_tensor = loaded_graph.get_tensor_by_name('initial_state:0')\n",
    "    final_state_tensor = loaded_graph.get_tensor_by_name('final_state:0')\n",
    "    probs_tensor = loaded_graph.get_tensor_by_name('probs:0')\n",
    "    return input_tensor, initial_state_tensor, final_state_tensor, probs_tensor\n",
    "\n",
    "\n",
    "\"\"\"\n",
    "DON'T MODIFY ANYTHING IN THIS CELL THAT IS BELOW THIS LINE\n",
    "\"\"\"\n",
    "tests.test_get_tensors(get_tensors)"
   ]
  },
  {
   "cell_type": "markdown",
   "metadata": {},
   "source": [
    "### 选择词汇\n",
    "实现 `pick_word()` 函数来使用 `probabilities` 选择下一个词汇。"
   ]
  },
  {
   "cell_type": "code",
   "execution_count": 25,
   "metadata": {},
   "outputs": [
    {
     "name": "stdout",
     "output_type": "stream",
     "text": [
      "Tests Passed\n"
     ]
    }
   ],
   "source": [
    "def pick_word(probabilities, int_to_vocab):\n",
    "    \"\"\"\n",
    "    Pick the next word in the generated text\n",
    "    :param probabilities: Probabilites of the next word\n",
    "    :param int_to_vocab: Dictionary of word ids as the keys and words as the values\n",
    "    :return: String of the predicted word\n",
    "    \"\"\"\n",
    "    # TODO: Implement Function\n",
    "    next_word_key = np.argmax(probabilities)\n",
    "    next_word = int_to_vocab[next_word_key]\n",
    "    return next_word\n",
    "\n",
    "\n",
    "\"\"\"\n",
    "DON'T MODIFY ANYTHING IN THIS CELL THAT IS BELOW THIS LINE\n",
    "\"\"\"\n",
    "tests.test_pick_word(pick_word)"
   ]
  },
  {
   "cell_type": "markdown",
   "metadata": {},
   "source": [
    "## 生成电视剧剧本\n",
    "这将为你生成一个电视剧剧本。通过设置 `gen_length` 来调整你想生成的剧本长度。"
   ]
  },
  {
   "cell_type": "code",
   "execution_count": 26,
   "metadata": {
    "scrolled": true
   },
   "outputs": [
    {
     "name": "stdout",
     "output_type": "stream",
     "text": [
      "moe_szyslak:(sigh) oh, god.\n",
      "\n",
      "\n",
      "marge_simpson: so then i pop my delts, clench and bam! not a dry eye in the house.\n",
      "homer_simpson: oh, i'm so proud of you, honey. you bulked up, but managed to keep your femininity.\n",
      "marge_simpson:(fierce) and that's why i didn't win!\n",
      "homer_simpson: sorry, sir, sorry.\n",
      "marge_simpson: starting tomorrow, i'm gonna up my glyco-load, use a denser ripping gel...\n",
      "homer_simpson:(frightened) denser?!\n",
      "marge_simpson: damn straight, i didn't sacrifice my period for second place! moe_szyslak: sure?\n",
      "lisa_simpson:(reading)\" world's worst friend.\"\n",
      "homer_simpson: hey, guys.\n",
      "moe_szyslak: okay, i'm glad you really think i could do it.\n",
      "moe_szyslak: hey, hey!\n",
      "homer_simpson:(tipsy) no, no, no. no.\n",
      "moe_szyslak:....\n",
      "marge_simpson: no. no. no, no. no. no. mediterranean ecru? no. no. no more in the bar.\n"
     ]
    }
   ],
   "source": [
    "gen_length = 200\n",
    "# homer_simpson, moe_szyslak, or Barney_Gumble\n",
    "prime_word = 'moe_szyslak'\n",
    "\n",
    "\"\"\"\n",
    "DON'T MODIFY ANYTHING IN THIS CELL THAT IS BELOW THIS LINE\n",
    "\"\"\"\n",
    "loaded_graph = tf.Graph()\n",
    "with tf.Session(graph=loaded_graph) as sess:\n",
    "    # Load saved model\n",
    "    loader = tf.train.import_meta_graph(load_dir + '.meta')\n",
    "    loader.restore(sess, load_dir)\n",
    "\n",
    "    # Get Tensors from loaded model\n",
    "    input_text, initial_state, final_state, probs = get_tensors(loaded_graph)\n",
    "\n",
    "    # Sentences generation setup\n",
    "    gen_sentences = [prime_word + ':']\n",
    "    prev_state = sess.run(initial_state, {input_text: np.array([[1]])})\n",
    "\n",
    "    # Generate sentences\n",
    "    for n in range(gen_length):\n",
    "        # Dynamic Input\n",
    "        dyn_input = [[vocab_to_int[word] for word in gen_sentences[-seq_length:]]]\n",
    "        dyn_seq_length = len(dyn_input[0])\n",
    "\n",
    "        # Get Prediction\n",
    "        probabilities, prev_state = sess.run(\n",
    "            [probs, final_state],\n",
    "            {input_text: dyn_input, initial_state: prev_state})\n",
    "        \n",
    "        pred_word = pick_word(probabilities[dyn_seq_length-1], int_to_vocab)\n",
    "\n",
    "        gen_sentences.append(pred_word)\n",
    "    \n",
    "    # Remove tokens\n",
    "    tv_script = ' '.join(gen_sentences)\n",
    "    for key, token in token_dict.items():\n",
    "        ending = ' ' if key in ['\\n', '(', '\"'] else ''\n",
    "        tv_script = tv_script.replace(' ' + token.lower(), key)\n",
    "    tv_script = tv_script.replace('\\n ', '\\n')\n",
    "    tv_script = tv_script.replace('( ', '(')\n",
    "        \n",
    "    print(tv_script)"
   ]
  },
  {
   "cell_type": "markdown",
   "metadata": {},
   "source": [
    "# 这个电视剧剧本是无意义的\n",
    "如果这个电视剧剧本毫无意义，那也没有关系。我们的训练文本不到一兆字节。为了获得更好的结果，你需要使用更小的词汇范围或是更多数据。幸运的是，我们的确拥有更多数据！在本项目开始之初我们也曾提过，这是[另一个数据集](https://www.kaggle.com/wcukierski/the-simpsons-by-the-data)的子集。我们并没有让你基于所有数据进行训练，因为这将耗费大量时间。然而，你可以随意使用这些数据训练你的神经网络。当然，是在完成本项目之后。\n",
    "# 提交项目\n",
    "在提交项目时，请确保你在保存 notebook 前运行了所有的单元格代码。请将 notebook 文件保存为 \"dlnd_tv_script_generation.ipynb\"，并将它作为 HTML 文件保存在 \"File\" -> \"Download as\" 中。请将 \"helper.py\" 和 \"problem_unittests.py\" 文件一并提交。"
   ]
  }
 ],
 "metadata": {
  "kernelspec": {
   "display_name": "Python 3",
   "language": "python",
   "name": "python3"
  },
  "language_info": {
   "codemirror_mode": {
    "name": "ipython",
    "version": 3
   },
   "file_extension": ".py",
   "mimetype": "text/x-python",
   "name": "python",
   "nbconvert_exporter": "python",
   "pygments_lexer": "ipython3",
   "version": "3.5.4"
  }
 },
 "nbformat": 4,
 "nbformat_minor": 2
}
